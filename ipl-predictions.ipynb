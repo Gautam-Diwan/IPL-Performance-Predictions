{
 "cells": [
  {
   "cell_type": "code",
   "execution_count": 1,
   "id": "de5425ee",
   "metadata": {
    "_cell_guid": "b1076dfc-b9ad-4769-8c92-a6c4dae69d19",
    "_uuid": "8f2839f25d086af736a60e9eeb907d3b93b6e0e5",
    "execution": {
     "iopub.execute_input": "2022-07-30T17:22:12.547781Z",
     "iopub.status.busy": "2022-07-30T17:22:12.546358Z",
     "iopub.status.idle": "2022-07-30T17:22:12.571457Z",
     "shell.execute_reply": "2022-07-30T17:22:12.570502Z"
    },
    "papermill": {
     "duration": 0.053267,
     "end_time": "2022-07-30T17:22:12.575405",
     "exception": false,
     "start_time": "2022-07-30T17:22:12.522138",
     "status": "completed"
    },
    "tags": []
   },
   "outputs": [
    {
     "name": "stdout",
     "output_type": "stream",
     "text": [
      "/kaggle/input/ipl-2020-player-performance/IPL 2020 Squads.csv\n",
      "/kaggle/input/ipl-2020-player-performance/sample_submission.csv\n",
      "/kaggle/input/ipl-2020-player-performance/Matches IPL 2020.csv\n",
      "/kaggle/input/ipl-2020-player-performance/Matches IPL 2008-2019.csv\n",
      "/kaggle/input/ipl-2020-player-performance/Training.csv\n"
     ]
    }
   ],
   "source": [
    "# This Python 3 environment comes with many helpful analytics libraries installed\n",
    "# It is defined by the kaggle/python Docker image: https://github.com/kaggle/docker-python\n",
    "# For example, here's several helpful packages to load\n",
    "\n",
    "import numpy as np # linear algebra\n",
    "import pandas as pd # data processing, CSV file I/O (e.g. pd.read_csv)\n",
    "\n",
    "# Input data files are available in the read-only \"../input/\" directory\n",
    "# For example, running this (by clicking run or pressing Shift+Enter) will list all files under the input directory\n",
    "\n",
    "import os\n",
    "for dirname, _, filenames in os.walk('/kaggle/input'):\n",
    "    for filename in filenames:\n",
    "        print(os.path.join(dirname, filename))\n",
    "\n",
    "# You can write up to 20GB to the current directory (/kaggle/working/) that gets preserved as output when you create a version using \"Save & Run All\" \n",
    "# You can also write temporary files to /kaggle/temp/, but they won't be saved outside of the current session"
   ]
  },
  {
   "cell_type": "code",
   "execution_count": 2,
   "id": "f0ba2a3c",
   "metadata": {
    "execution": {
     "iopub.execute_input": "2022-07-30T17:22:12.606777Z",
     "iopub.status.busy": "2022-07-30T17:22:12.605184Z",
     "iopub.status.idle": "2022-07-30T17:22:16.456654Z",
     "shell.execute_reply": "2022-07-30T17:22:16.455692Z"
    },
    "papermill": {
     "duration": 3.868589,
     "end_time": "2022-07-30T17:22:16.459138",
     "exception": false,
     "start_time": "2022-07-30T17:22:12.590549",
     "status": "completed"
    },
    "tags": []
   },
   "outputs": [],
   "source": [
    "import cudf as cd\n",
    "import cupy as cp"
   ]
  },
  {
   "cell_type": "code",
   "execution_count": 3,
   "id": "2a75f928",
   "metadata": {
    "execution": {
     "iopub.execute_input": "2022-07-30T17:22:16.488747Z",
     "iopub.status.busy": "2022-07-30T17:22:16.487818Z",
     "iopub.status.idle": "2022-07-30T17:22:16.629221Z",
     "shell.execute_reply": "2022-07-30T17:22:16.628279Z"
    },
    "papermill": {
     "duration": 0.157862,
     "end_time": "2022-07-30T17:22:16.631811",
     "exception": false,
     "start_time": "2022-07-30T17:22:16.473949",
     "status": "completed"
    },
    "tags": []
   },
   "outputs": [],
   "source": [
    "import seaborn as sns\n",
    "from sklearn.model_selection import train_test_split\n",
    "from sklearn.preprocessing import OneHotEncoder\n",
    "from sklearn.preprocessing import StandardScaler\n",
    "from sklearn.preprocessing import LabelEncoder\n",
    "from sklearn.model_selection import GridSearchCV\n",
    "from sklearn.model_selection import validation_curve\n",
    "import sys\n",
    "from sklearn.linear_model import Lasso\n",
    "from sklearn.linear_model import ElasticNet\n",
    "from sklearn.ensemble import RandomForestRegressor\n",
    "import xgboost as xgb\n",
    "from sklearn.metrics import mean_squared_error as MSE"
   ]
  },
  {
   "cell_type": "code",
   "execution_count": 4,
   "id": "667fa9d8",
   "metadata": {
    "execution": {
     "iopub.execute_input": "2022-07-30T17:22:16.658581Z",
     "iopub.status.busy": "2022-07-30T17:22:16.658218Z",
     "iopub.status.idle": "2022-07-30T17:22:17.128358Z",
     "shell.execute_reply": "2022-07-30T17:22:17.127317Z"
    },
    "papermill": {
     "duration": 0.485995,
     "end_time": "2022-07-30T17:22:17.130877",
     "exception": false,
     "start_time": "2022-07-30T17:22:16.644882",
     "status": "completed"
    },
    "tags": []
   },
   "outputs": [],
   "source": [
    "from cuml.preprocessing.LabelEncoder import LabelEncoder\n",
    "from cuml.model_selection import train_test_split\n",
    "from cuml.metrics.regression import r2_score,mean_squared_log_error,mean_squared_error\n",
    "from cuml.metrics import confusion_matrix,roc_auc_score,precision_recall_curve\n",
    "from cuml.metrics.accuracy import accuracy_score\n",
    "from cuml import ElasticNet\n",
    "from cuml.ensemble import RandomForestRegressor\n",
    "import xgboost as xgb"
   ]
  },
  {
   "cell_type": "code",
   "execution_count": 5,
   "id": "92b40311",
   "metadata": {
    "execution": {
     "iopub.execute_input": "2022-07-30T17:22:17.159785Z",
     "iopub.status.busy": "2022-07-30T17:22:17.158845Z",
     "iopub.status.idle": "2022-07-30T17:22:17.163699Z",
     "shell.execute_reply": "2022-07-30T17:22:17.162838Z"
    },
    "papermill": {
     "duration": 0.020819,
     "end_time": "2022-07-30T17:22:17.165613",
     "exception": false,
     "start_time": "2022-07-30T17:22:17.144794",
     "status": "completed"
    },
    "tags": []
   },
   "outputs": [],
   "source": [
    "import warnings\n",
    "warnings.filterwarnings(\"ignore\")"
   ]
  },
  {
   "cell_type": "markdown",
   "id": "b0297a8e",
   "metadata": {
    "papermill": {
     "duration": 0.012553,
     "end_time": "2022-07-30T17:22:17.191269",
     "exception": false,
     "start_time": "2022-07-30T17:22:17.178716",
     "status": "completed"
    },
    "tags": []
   },
   "source": [
    "Importing Dataset"
   ]
  },
  {
   "cell_type": "code",
   "execution_count": 6,
   "id": "ce0c84dd",
   "metadata": {
    "execution": {
     "iopub.execute_input": "2022-07-30T17:22:17.219062Z",
     "iopub.status.busy": "2022-07-30T17:22:17.218359Z",
     "iopub.status.idle": "2022-07-30T17:22:20.897341Z",
     "shell.execute_reply": "2022-07-30T17:22:20.896391Z"
    },
    "papermill": {
     "duration": 3.695392,
     "end_time": "2022-07-30T17:22:20.899533",
     "exception": false,
     "start_time": "2022-07-30T17:22:17.204141",
     "status": "completed"
    },
    "tags": []
   },
   "outputs": [
    {
     "data": {
      "text/html": [
       "<div>\n",
       "<style scoped>\n",
       "    .dataframe tbody tr th:only-of-type {\n",
       "        vertical-align: middle;\n",
       "    }\n",
       "\n",
       "    .dataframe tbody tr th {\n",
       "        vertical-align: top;\n",
       "    }\n",
       "\n",
       "    .dataframe thead th {\n",
       "        text-align: right;\n",
       "    }\n",
       "</style>\n",
       "<table border=\"1\" class=\"dataframe\">\n",
       "  <thead>\n",
       "    <tr style=\"text-align: right;\">\n",
       "      <th></th>\n",
       "      <th>Id</th>\n",
       "      <th>Runs</th>\n",
       "      <th>Boundaries</th>\n",
       "      <th>Six</th>\n",
       "      <th>Fifty</th>\n",
       "      <th>Hundred</th>\n",
       "      <th>Duck</th>\n",
       "      <th>Batting_Points</th>\n",
       "      <th>Wickets</th>\n",
       "      <th>4W_Haul</th>\n",
       "      <th>5W_Haul</th>\n",
       "      <th>Maidens</th>\n",
       "      <th>Bowling_Points</th>\n",
       "      <th>Total Points</th>\n",
       "    </tr>\n",
       "  </thead>\n",
       "  <tbody>\n",
       "    <tr>\n",
       "      <th>0</th>\n",
       "      <td>1_Bipul Sharma</td>\n",
       "      <td>0</td>\n",
       "      <td>0</td>\n",
       "      <td>0</td>\n",
       "      <td>0</td>\n",
       "      <td>0</td>\n",
       "      <td>0</td>\n",
       "      <td>0</td>\n",
       "      <td>1</td>\n",
       "      <td>0</td>\n",
       "      <td>0</td>\n",
       "      <td>0</td>\n",
       "      <td>25</td>\n",
       "      <td>25</td>\n",
       "    </tr>\n",
       "    <tr>\n",
       "      <th>1</th>\n",
       "      <td>1_DJ Hooda</td>\n",
       "      <td>16</td>\n",
       "      <td>1</td>\n",
       "      <td>1</td>\n",
       "      <td>0</td>\n",
       "      <td>0</td>\n",
       "      <td>0</td>\n",
       "      <td>19</td>\n",
       "      <td>1</td>\n",
       "      <td>0</td>\n",
       "      <td>0</td>\n",
       "      <td>0</td>\n",
       "      <td>25</td>\n",
       "      <td>44</td>\n",
       "    </tr>\n",
       "    <tr>\n",
       "      <th>2</th>\n",
       "      <td>1_KM Jadhav</td>\n",
       "      <td>31</td>\n",
       "      <td>5</td>\n",
       "      <td>1</td>\n",
       "      <td>0</td>\n",
       "      <td>0</td>\n",
       "      <td>0</td>\n",
       "      <td>38</td>\n",
       "      <td>0</td>\n",
       "      <td>0</td>\n",
       "      <td>0</td>\n",
       "      <td>0</td>\n",
       "      <td>0</td>\n",
       "      <td>38</td>\n",
       "    </tr>\n",
       "    <tr>\n",
       "      <th>3</th>\n",
       "      <td>1_Mandeep Singh</td>\n",
       "      <td>24</td>\n",
       "      <td>5</td>\n",
       "      <td>0</td>\n",
       "      <td>0</td>\n",
       "      <td>0</td>\n",
       "      <td>0</td>\n",
       "      <td>29</td>\n",
       "      <td>0</td>\n",
       "      <td>0</td>\n",
       "      <td>0</td>\n",
       "      <td>0</td>\n",
       "      <td>0</td>\n",
       "      <td>29</td>\n",
       "    </tr>\n",
       "    <tr>\n",
       "      <th>4</th>\n",
       "      <td>1_Yuvraj Singh</td>\n",
       "      <td>62</td>\n",
       "      <td>10</td>\n",
       "      <td>3</td>\n",
       "      <td>1</td>\n",
       "      <td>0</td>\n",
       "      <td>0</td>\n",
       "      <td>86</td>\n",
       "      <td>0</td>\n",
       "      <td>0</td>\n",
       "      <td>0</td>\n",
       "      <td>0</td>\n",
       "      <td>0</td>\n",
       "      <td>86</td>\n",
       "    </tr>\n",
       "  </tbody>\n",
       "</table>\n",
       "</div>"
      ],
      "text/plain": [
       "                Id  Runs  Boundaries  Six  Fifty  Hundred  Duck  \\\n",
       "0   1_Bipul Sharma     0           0    0      0        0     0   \n",
       "1       1_DJ Hooda    16           1    1      0        0     0   \n",
       "2      1_KM Jadhav    31           5    1      0        0     0   \n",
       "3  1_Mandeep Singh    24           5    0      0        0     0   \n",
       "4   1_Yuvraj Singh    62          10    3      1        0     0   \n",
       "\n",
       "   Batting_Points  Wickets  4W_Haul  5W_Haul  Maidens  Bowling_Points  \\\n",
       "0               0        1        0        0        0              25   \n",
       "1              19        1        0        0        0              25   \n",
       "2              38        0        0        0        0               0   \n",
       "3              29        0        0        0        0               0   \n",
       "4              86        0        0        0        0               0   \n",
       "\n",
       "   Total Points  \n",
       "0            25  \n",
       "1            44  \n",
       "2            38  \n",
       "3            29  \n",
       "4            86  "
      ]
     },
     "execution_count": 6,
     "metadata": {},
     "output_type": "execute_result"
    }
   ],
   "source": [
    "train = pd.read_csv(\"../input/ipl-2020-player-performance/Training.csv\",header=0)\n",
    "cd_train = cd.read_csv(\"../input/ipl-2020-player-performance/Training.csv\",header=0)\n",
    "cd_train.head()"
   ]
  },
  {
   "cell_type": "code",
   "execution_count": 7,
   "id": "421c79d4",
   "metadata": {
    "execution": {
     "iopub.execute_input": "2022-07-30T17:22:20.927348Z",
     "iopub.status.busy": "2022-07-30T17:22:20.927071Z",
     "iopub.status.idle": "2022-07-30T17:22:20.944285Z",
     "shell.execute_reply": "2022-07-30T17:22:20.942773Z"
    },
    "papermill": {
     "duration": 0.033278,
     "end_time": "2022-07-30T17:22:20.946252",
     "exception": false,
     "start_time": "2022-07-30T17:22:20.912974",
     "status": "completed"
    },
    "tags": []
   },
   "outputs": [
    {
     "name": "stdout",
     "output_type": "stream",
     "text": [
      "<class 'cudf.core.dataframe.DataFrame'>\n",
      "RangeIndex: 15916 entries, 0 to 15915\n",
      "Data columns (total 14 columns):\n",
      " #   Column          Non-Null Count  Dtype\n",
      "---  ------          --------------  -----\n",
      " 0   Id              15916 non-null  object\n",
      " 1   Runs            15916 non-null  int64\n",
      " 2   Boundaries      15916 non-null  int64\n",
      " 3   Six             15916 non-null  int64\n",
      " 4   Fifty           15916 non-null  int64\n",
      " 5   Hundred         15916 non-null  int64\n",
      " 6   Duck            15916 non-null  int64\n",
      " 7   Batting_Points  15916 non-null  int64\n",
      " 8   Wickets         15916 non-null  int64\n",
      " 9   4W_Haul         15916 non-null  int64\n",
      " 10  5W_Haul         15916 non-null  int64\n",
      " 11  Maidens         15916 non-null  int64\n",
      " 12  Bowling_Points  15916 non-null  int64\n",
      " 13  Total Points    15916 non-null  int64\n",
      "dtypes: int64(13), object(1)\n",
      "memory usage: 1.8+ MB\n"
     ]
    }
   ],
   "source": [
    "cd_train.info()"
   ]
  },
  {
   "cell_type": "code",
   "execution_count": 8,
   "id": "5f2f208d",
   "metadata": {
    "execution": {
     "iopub.execute_input": "2022-07-30T17:22:20.974557Z",
     "iopub.status.busy": "2022-07-30T17:22:20.974226Z",
     "iopub.status.idle": "2022-07-30T17:22:31.754860Z",
     "shell.execute_reply": "2022-07-30T17:22:31.753879Z"
    },
    "papermill": {
     "duration": 10.797063,
     "end_time": "2022-07-30T17:22:31.757154",
     "exception": false,
     "start_time": "2022-07-30T17:22:20.960091",
     "status": "completed"
    },
    "tags": []
   },
   "outputs": [],
   "source": [
    "train['Match_ID'] = train['Id']\n",
    "train['Player'] = train['Id']\n",
    "cd_train['Match_ID'] = cd_train['Id']\n",
    "cd_train['Player'] = cd_train['Id']\n",
    "for i in range(len( train)):\n",
    "    train['Player'][i] =  train['Id'][i].split(\"_\")[-1]\n",
    "    train['Match_ID'][i] = int( train['Id'][i].split('_')[:1][0])\n",
    "cd_train['Player']=cd.Series(train['Player'])\n",
    "cd_train['Match_ID']=cd.Series(train['Match_ID'])"
   ]
  },
  {
   "cell_type": "code",
   "execution_count": 9,
   "id": "a1251fd7",
   "metadata": {
    "execution": {
     "iopub.execute_input": "2022-07-30T17:22:31.784985Z",
     "iopub.status.busy": "2022-07-30T17:22:31.784687Z",
     "iopub.status.idle": "2022-07-30T17:22:31.819832Z",
     "shell.execute_reply": "2022-07-30T17:22:31.818701Z"
    },
    "papermill": {
     "duration": 0.051645,
     "end_time": "2022-07-30T17:22:31.822681",
     "exception": false,
     "start_time": "2022-07-30T17:22:31.771036",
     "status": "completed"
    },
    "tags": []
   },
   "outputs": [
    {
     "data": {
      "text/html": [
       "<div>\n",
       "<style scoped>\n",
       "    .dataframe tbody tr th:only-of-type {\n",
       "        vertical-align: middle;\n",
       "    }\n",
       "\n",
       "    .dataframe tbody tr th {\n",
       "        vertical-align: top;\n",
       "    }\n",
       "\n",
       "    .dataframe thead th {\n",
       "        text-align: right;\n",
       "    }\n",
       "</style>\n",
       "<table border=\"1\" class=\"dataframe\">\n",
       "  <thead>\n",
       "    <tr style=\"text-align: right;\">\n",
       "      <th></th>\n",
       "      <th>Id</th>\n",
       "      <th>Runs</th>\n",
       "      <th>Boundaries</th>\n",
       "      <th>Six</th>\n",
       "      <th>Fifty</th>\n",
       "      <th>Hundred</th>\n",
       "      <th>Duck</th>\n",
       "      <th>Batting_Points</th>\n",
       "      <th>Wickets</th>\n",
       "      <th>4W_Haul</th>\n",
       "      <th>5W_Haul</th>\n",
       "      <th>Maidens</th>\n",
       "      <th>Bowling_Points</th>\n",
       "      <th>Total Points</th>\n",
       "      <th>Match_ID</th>\n",
       "      <th>Player</th>\n",
       "    </tr>\n",
       "  </thead>\n",
       "  <tbody>\n",
       "    <tr>\n",
       "      <th>0</th>\n",
       "      <td>1_Bipul Sharma</td>\n",
       "      <td>0</td>\n",
       "      <td>0</td>\n",
       "      <td>0</td>\n",
       "      <td>0</td>\n",
       "      <td>0</td>\n",
       "      <td>0</td>\n",
       "      <td>0</td>\n",
       "      <td>1</td>\n",
       "      <td>0</td>\n",
       "      <td>0</td>\n",
       "      <td>0</td>\n",
       "      <td>25</td>\n",
       "      <td>25</td>\n",
       "      <td>1</td>\n",
       "      <td>Bipul Sharma</td>\n",
       "    </tr>\n",
       "    <tr>\n",
       "      <th>1</th>\n",
       "      <td>1_DJ Hooda</td>\n",
       "      <td>16</td>\n",
       "      <td>1</td>\n",
       "      <td>1</td>\n",
       "      <td>0</td>\n",
       "      <td>0</td>\n",
       "      <td>0</td>\n",
       "      <td>19</td>\n",
       "      <td>1</td>\n",
       "      <td>0</td>\n",
       "      <td>0</td>\n",
       "      <td>0</td>\n",
       "      <td>25</td>\n",
       "      <td>44</td>\n",
       "      <td>1</td>\n",
       "      <td>DJ Hooda</td>\n",
       "    </tr>\n",
       "    <tr>\n",
       "      <th>2</th>\n",
       "      <td>1_KM Jadhav</td>\n",
       "      <td>31</td>\n",
       "      <td>5</td>\n",
       "      <td>1</td>\n",
       "      <td>0</td>\n",
       "      <td>0</td>\n",
       "      <td>0</td>\n",
       "      <td>38</td>\n",
       "      <td>0</td>\n",
       "      <td>0</td>\n",
       "      <td>0</td>\n",
       "      <td>0</td>\n",
       "      <td>0</td>\n",
       "      <td>38</td>\n",
       "      <td>1</td>\n",
       "      <td>KM Jadhav</td>\n",
       "    </tr>\n",
       "    <tr>\n",
       "      <th>3</th>\n",
       "      <td>1_Mandeep Singh</td>\n",
       "      <td>24</td>\n",
       "      <td>5</td>\n",
       "      <td>0</td>\n",
       "      <td>0</td>\n",
       "      <td>0</td>\n",
       "      <td>0</td>\n",
       "      <td>29</td>\n",
       "      <td>0</td>\n",
       "      <td>0</td>\n",
       "      <td>0</td>\n",
       "      <td>0</td>\n",
       "      <td>0</td>\n",
       "      <td>29</td>\n",
       "      <td>1</td>\n",
       "      <td>Mandeep Singh</td>\n",
       "    </tr>\n",
       "    <tr>\n",
       "      <th>4</th>\n",
       "      <td>1_Yuvraj Singh</td>\n",
       "      <td>62</td>\n",
       "      <td>10</td>\n",
       "      <td>3</td>\n",
       "      <td>1</td>\n",
       "      <td>0</td>\n",
       "      <td>0</td>\n",
       "      <td>86</td>\n",
       "      <td>0</td>\n",
       "      <td>0</td>\n",
       "      <td>0</td>\n",
       "      <td>0</td>\n",
       "      <td>0</td>\n",
       "      <td>86</td>\n",
       "      <td>1</td>\n",
       "      <td>Yuvraj Singh</td>\n",
       "    </tr>\n",
       "  </tbody>\n",
       "</table>\n",
       "</div>"
      ],
      "text/plain": [
       "                Id  Runs  Boundaries  Six  Fifty  Hundred  Duck  \\\n",
       "0   1_Bipul Sharma     0           0    0      0        0     0   \n",
       "1       1_DJ Hooda    16           1    1      0        0     0   \n",
       "2      1_KM Jadhav    31           5    1      0        0     0   \n",
       "3  1_Mandeep Singh    24           5    0      0        0     0   \n",
       "4   1_Yuvraj Singh    62          10    3      1        0     0   \n",
       "\n",
       "   Batting_Points  Wickets  4W_Haul  5W_Haul  Maidens  Bowling_Points  \\\n",
       "0               0        1        0        0        0              25   \n",
       "1              19        1        0        0        0              25   \n",
       "2              38        0        0        0        0               0   \n",
       "3              29        0        0        0        0               0   \n",
       "4              86        0        0        0        0               0   \n",
       "\n",
       "   Total Points  Match_ID         Player  \n",
       "0            25         1   Bipul Sharma  \n",
       "1            44         1       DJ Hooda  \n",
       "2            38         1      KM Jadhav  \n",
       "3            29         1  Mandeep Singh  \n",
       "4            86         1   Yuvraj Singh  "
      ]
     },
     "execution_count": 9,
     "metadata": {},
     "output_type": "execute_result"
    }
   ],
   "source": [
    "cd_train.head()"
   ]
  },
  {
   "cell_type": "code",
   "execution_count": 10,
   "id": "7b99f130",
   "metadata": {
    "execution": {
     "iopub.execute_input": "2022-07-30T17:22:31.850567Z",
     "iopub.status.busy": "2022-07-30T17:22:31.850232Z",
     "iopub.status.idle": "2022-07-30T17:22:31.873471Z",
     "shell.execute_reply": "2022-07-30T17:22:31.872468Z"
    },
    "papermill": {
     "duration": 0.039898,
     "end_time": "2022-07-30T17:22:31.876009",
     "exception": false,
     "start_time": "2022-07-30T17:22:31.836111",
     "status": "completed"
    },
    "tags": []
   },
   "outputs": [
    {
     "data": {
      "text/html": [
       "<div>\n",
       "<style scoped>\n",
       "    .dataframe tbody tr th:only-of-type {\n",
       "        vertical-align: middle;\n",
       "    }\n",
       "\n",
       "    .dataframe tbody tr th {\n",
       "        vertical-align: top;\n",
       "    }\n",
       "\n",
       "    .dataframe thead th {\n",
       "        text-align: right;\n",
       "    }\n",
       "</style>\n",
       "<table border=\"1\" class=\"dataframe\">\n",
       "  <thead>\n",
       "    <tr style=\"text-align: right;\">\n",
       "      <th></th>\n",
       "      <th>Match_ID</th>\n",
       "      <th>Player</th>\n",
       "      <th>Total Points</th>\n",
       "    </tr>\n",
       "  </thead>\n",
       "  <tbody>\n",
       "    <tr>\n",
       "      <th>0</th>\n",
       "      <td>1</td>\n",
       "      <td>Bipul Sharma</td>\n",
       "      <td>25</td>\n",
       "    </tr>\n",
       "    <tr>\n",
       "      <th>1</th>\n",
       "      <td>1</td>\n",
       "      <td>DJ Hooda</td>\n",
       "      <td>44</td>\n",
       "    </tr>\n",
       "    <tr>\n",
       "      <th>2</th>\n",
       "      <td>1</td>\n",
       "      <td>KM Jadhav</td>\n",
       "      <td>38</td>\n",
       "    </tr>\n",
       "    <tr>\n",
       "      <th>3</th>\n",
       "      <td>1</td>\n",
       "      <td>Mandeep Singh</td>\n",
       "      <td>29</td>\n",
       "    </tr>\n",
       "    <tr>\n",
       "      <th>4</th>\n",
       "      <td>1</td>\n",
       "      <td>Yuvraj Singh</td>\n",
       "      <td>86</td>\n",
       "    </tr>\n",
       "  </tbody>\n",
       "</table>\n",
       "</div>"
      ],
      "text/plain": [
       "   Match_ID         Player  Total Points\n",
       "0         1   Bipul Sharma            25\n",
       "1         1       DJ Hooda            44\n",
       "2         1      KM Jadhav            38\n",
       "3         1  Mandeep Singh            29\n",
       "4         1   Yuvraj Singh            86"
      ]
     },
     "execution_count": 10,
     "metadata": {},
     "output_type": "execute_result"
    }
   ],
   "source": [
    "columns = ['Match_ID','Player','Total Points']\n",
    "train = train[columns]\n",
    "cd_train = cd_train[columns]\n",
    "cd_train.head()"
   ]
  },
  {
   "cell_type": "code",
   "execution_count": 11,
   "id": "8a82995b",
   "metadata": {
    "execution": {
     "iopub.execute_input": "2022-07-30T17:22:31.904991Z",
     "iopub.status.busy": "2022-07-30T17:22:31.904301Z",
     "iopub.status.idle": "2022-07-30T17:22:31.931149Z",
     "shell.execute_reply": "2022-07-30T17:22:31.930219Z"
    },
    "papermill": {
     "duration": 0.043855,
     "end_time": "2022-07-30T17:22:31.933678",
     "exception": false,
     "start_time": "2022-07-30T17:22:31.889823",
     "status": "completed"
    },
    "tags": []
   },
   "outputs": [
    {
     "data": {
      "text/html": [
       "<div>\n",
       "<style scoped>\n",
       "    .dataframe tbody tr th:only-of-type {\n",
       "        vertical-align: middle;\n",
       "    }\n",
       "\n",
       "    .dataframe tbody tr th {\n",
       "        vertical-align: top;\n",
       "    }\n",
       "\n",
       "    .dataframe thead th {\n",
       "        text-align: right;\n",
       "    }\n",
       "</style>\n",
       "<table border=\"1\" class=\"dataframe\">\n",
       "  <thead>\n",
       "    <tr style=\"text-align: right;\">\n",
       "      <th></th>\n",
       "      <th>Id</th>\n",
       "      <th>Total Points</th>\n",
       "    </tr>\n",
       "  </thead>\n",
       "  <tbody>\n",
       "    <tr>\n",
       "      <th>0</th>\n",
       "      <td>1216492_AS Yadav</td>\n",
       "      <td>0</td>\n",
       "    </tr>\n",
       "    <tr>\n",
       "      <th>1</th>\n",
       "      <td>1216492_AT Rayudu</td>\n",
       "      <td>0</td>\n",
       "    </tr>\n",
       "    <tr>\n",
       "      <th>2</th>\n",
       "      <td>1216492_DL Chahar</td>\n",
       "      <td>0</td>\n",
       "    </tr>\n",
       "    <tr>\n",
       "      <th>3</th>\n",
       "      <td>1216492_F du Plessis</td>\n",
       "      <td>0</td>\n",
       "    </tr>\n",
       "    <tr>\n",
       "      <th>4</th>\n",
       "      <td>1216492_HH Pandya</td>\n",
       "      <td>0</td>\n",
       "    </tr>\n",
       "  </tbody>\n",
       "</table>\n",
       "</div>"
      ],
      "text/plain": [
       "                     Id  Total Points\n",
       "0      1216492_AS Yadav             0\n",
       "1     1216492_AT Rayudu             0\n",
       "2     1216492_DL Chahar             0\n",
       "3  1216492_F du Plessis             0\n",
       "4     1216492_HH Pandya             0"
      ]
     },
     "execution_count": 11,
     "metadata": {},
     "output_type": "execute_result"
    }
   ],
   "source": [
    "submission = pd.read_csv(\"../input/ipl-2020-player-performance/sample_submission.csv\",header=0)\n",
    "cd_submission = cd.read_csv(\"../input/ipl-2020-player-performance/sample_submission.csv\",header=0)\n",
    "cd_submission.head()"
   ]
  },
  {
   "cell_type": "code",
   "execution_count": 12,
   "id": "6a7cc85b",
   "metadata": {
    "execution": {
     "iopub.execute_input": "2022-07-30T17:22:31.963355Z",
     "iopub.status.busy": "2022-07-30T17:22:31.962381Z",
     "iopub.status.idle": "2022-07-30T17:22:32.880219Z",
     "shell.execute_reply": "2022-07-30T17:22:32.879242Z"
    },
    "papermill": {
     "duration": 0.935543,
     "end_time": "2022-07-30T17:22:32.883333",
     "exception": false,
     "start_time": "2022-07-30T17:22:31.947790",
     "status": "completed"
    },
    "tags": []
   },
   "outputs": [],
   "source": [
    "submission['Match_ID'] = submission['Id']\n",
    "submission['Player'] = submission['Id']\n",
    "cd_submission['Match_ID'] = cd_submission['Id']\n",
    "cd_submission['Player'] = cd_submission['Id']\n",
    "for i in range(len( submission)):\n",
    "    submission['Player'][i] =  submission['Id'][i].split(\"_\")[-1]\n",
    "    submission['Match_ID'][i] = int( submission['Id'][i].split('_')[:1][0])\n",
    "    \n",
    "cd_submission['Player']=cd.Series(submission['Player'])\n",
    "cd_submission['Match_ID']=cd.Series(submission['Match_ID'])"
   ]
  },
  {
   "cell_type": "code",
   "execution_count": 13,
   "id": "a3acfbf7",
   "metadata": {
    "execution": {
     "iopub.execute_input": "2022-07-30T17:22:32.931282Z",
     "iopub.status.busy": "2022-07-30T17:22:32.930588Z",
     "iopub.status.idle": "2022-07-30T17:22:32.957876Z",
     "shell.execute_reply": "2022-07-30T17:22:32.956943Z"
    },
    "papermill": {
     "duration": 0.054391,
     "end_time": "2022-07-30T17:22:32.960944",
     "exception": false,
     "start_time": "2022-07-30T17:22:32.906553",
     "status": "completed"
    },
    "tags": []
   },
   "outputs": [
    {
     "data": {
      "text/html": [
       "<div>\n",
       "<style scoped>\n",
       "    .dataframe tbody tr th:only-of-type {\n",
       "        vertical-align: middle;\n",
       "    }\n",
       "\n",
       "    .dataframe tbody tr th {\n",
       "        vertical-align: top;\n",
       "    }\n",
       "\n",
       "    .dataframe thead th {\n",
       "        text-align: right;\n",
       "    }\n",
       "</style>\n",
       "<table border=\"1\" class=\"dataframe\">\n",
       "  <thead>\n",
       "    <tr style=\"text-align: right;\">\n",
       "      <th></th>\n",
       "      <th>Match_ID</th>\n",
       "      <th>Player</th>\n",
       "      <th>Total Points</th>\n",
       "    </tr>\n",
       "  </thead>\n",
       "  <tbody>\n",
       "    <tr>\n",
       "      <th>0</th>\n",
       "      <td>1216492</td>\n",
       "      <td>AS Yadav</td>\n",
       "      <td>0</td>\n",
       "    </tr>\n",
       "    <tr>\n",
       "      <th>1</th>\n",
       "      <td>1216492</td>\n",
       "      <td>AT Rayudu</td>\n",
       "      <td>0</td>\n",
       "    </tr>\n",
       "    <tr>\n",
       "      <th>2</th>\n",
       "      <td>1216492</td>\n",
       "      <td>DL Chahar</td>\n",
       "      <td>0</td>\n",
       "    </tr>\n",
       "    <tr>\n",
       "      <th>3</th>\n",
       "      <td>1216492</td>\n",
       "      <td>F du Plessis</td>\n",
       "      <td>0</td>\n",
       "    </tr>\n",
       "    <tr>\n",
       "      <th>4</th>\n",
       "      <td>1216492</td>\n",
       "      <td>HH Pandya</td>\n",
       "      <td>0</td>\n",
       "    </tr>\n",
       "  </tbody>\n",
       "</table>\n",
       "</div>"
      ],
      "text/plain": [
       "   Match_ID        Player  Total Points\n",
       "0   1216492      AS Yadav             0\n",
       "1   1216492     AT Rayudu             0\n",
       "2   1216492     DL Chahar             0\n",
       "3   1216492  F du Plessis             0\n",
       "4   1216492     HH Pandya             0"
      ]
     },
     "execution_count": 13,
     "metadata": {},
     "output_type": "execute_result"
    }
   ],
   "source": [
    "submission = submission[columns]\n",
    "cd_submission = cd_submission[columns]\n",
    "cd_submission.head()"
   ]
  },
  {
   "cell_type": "code",
   "execution_count": 14,
   "id": "2d167191",
   "metadata": {
    "execution": {
     "iopub.execute_input": "2022-07-30T17:22:33.009614Z",
     "iopub.status.busy": "2022-07-30T17:22:33.009062Z",
     "iopub.status.idle": "2022-07-30T17:22:33.070618Z",
     "shell.execute_reply": "2022-07-30T17:22:33.069591Z"
    },
    "papermill": {
     "duration": 0.090049,
     "end_time": "2022-07-30T17:22:33.073794",
     "exception": false,
     "start_time": "2022-07-30T17:22:32.983745",
     "status": "completed"
    },
    "tags": []
   },
   "outputs": [
    {
     "data": {
      "text/html": [
       "<div>\n",
       "<style scoped>\n",
       "    .dataframe tbody tr th:only-of-type {\n",
       "        vertical-align: middle;\n",
       "    }\n",
       "\n",
       "    .dataframe tbody tr th {\n",
       "        vertical-align: top;\n",
       "    }\n",
       "\n",
       "    .dataframe thead th {\n",
       "        text-align: right;\n",
       "    }\n",
       "</style>\n",
       "<table border=\"1\" class=\"dataframe\">\n",
       "  <thead>\n",
       "    <tr style=\"text-align: right;\">\n",
       "      <th></th>\n",
       "      <th>match_id</th>\n",
       "      <th>season</th>\n",
       "      <th>city</th>\n",
       "      <th>date</th>\n",
       "      <th>team1</th>\n",
       "      <th>team2</th>\n",
       "      <th>toss_winner</th>\n",
       "      <th>toss_decision</th>\n",
       "      <th>result</th>\n",
       "      <th>dl_applied</th>\n",
       "      <th>winner</th>\n",
       "      <th>win_by_runs</th>\n",
       "      <th>win_by_wickets</th>\n",
       "      <th>player_of_match</th>\n",
       "      <th>venue</th>\n",
       "      <th>umpire1</th>\n",
       "      <th>umpire2</th>\n",
       "      <th>umpire3</th>\n",
       "    </tr>\n",
       "  </thead>\n",
       "  <tbody>\n",
       "    <tr>\n",
       "      <th>0</th>\n",
       "      <td>60</td>\n",
       "      <td>2008</td>\n",
       "      <td>Bangalore</td>\n",
       "      <td>18-04-2008</td>\n",
       "      <td>Kolkata Knight Riders</td>\n",
       "      <td>Royal Challengers Bangalore</td>\n",
       "      <td>Royal Challengers Bangalore</td>\n",
       "      <td>field</td>\n",
       "      <td>normal</td>\n",
       "      <td>0</td>\n",
       "      <td>Kolkata Knight Riders</td>\n",
       "      <td>140</td>\n",
       "      <td>0</td>\n",
       "      <td>BB McCullum</td>\n",
       "      <td>M Chinnaswamy Stadium</td>\n",
       "      <td>Asad Rauf</td>\n",
       "      <td>RE Koertzen</td>\n",
       "      <td>NaN</td>\n",
       "    </tr>\n",
       "    <tr>\n",
       "      <th>1</th>\n",
       "      <td>61</td>\n",
       "      <td>2008</td>\n",
       "      <td>Chandigarh</td>\n",
       "      <td>19-04-2008</td>\n",
       "      <td>Chennai Super Kings</td>\n",
       "      <td>Kings XI Punjab</td>\n",
       "      <td>Chennai Super Kings</td>\n",
       "      <td>bat</td>\n",
       "      <td>normal</td>\n",
       "      <td>0</td>\n",
       "      <td>Chennai Super Kings</td>\n",
       "      <td>33</td>\n",
       "      <td>0</td>\n",
       "      <td>MEK Hussey</td>\n",
       "      <td>Punjab Cricket Association Stadium, Mohali</td>\n",
       "      <td>MR Benson</td>\n",
       "      <td>SL Shastri</td>\n",
       "      <td>NaN</td>\n",
       "    </tr>\n",
       "    <tr>\n",
       "      <th>2</th>\n",
       "      <td>62</td>\n",
       "      <td>2008</td>\n",
       "      <td>Delhi</td>\n",
       "      <td>19-04-2008</td>\n",
       "      <td>Rajasthan Royals</td>\n",
       "      <td>Delhi Daredevils</td>\n",
       "      <td>Rajasthan Royals</td>\n",
       "      <td>bat</td>\n",
       "      <td>normal</td>\n",
       "      <td>0</td>\n",
       "      <td>Delhi Daredevils</td>\n",
       "      <td>0</td>\n",
       "      <td>9</td>\n",
       "      <td>MF Maharoof</td>\n",
       "      <td>Feroz Shah Kotla</td>\n",
       "      <td>Aleem Dar</td>\n",
       "      <td>GA Pratapkumar</td>\n",
       "      <td>NaN</td>\n",
       "    </tr>\n",
       "    <tr>\n",
       "      <th>3</th>\n",
       "      <td>63</td>\n",
       "      <td>2008</td>\n",
       "      <td>Mumbai</td>\n",
       "      <td>20-04-2008</td>\n",
       "      <td>Mumbai Indians</td>\n",
       "      <td>Royal Challengers Bangalore</td>\n",
       "      <td>Mumbai Indians</td>\n",
       "      <td>bat</td>\n",
       "      <td>normal</td>\n",
       "      <td>0</td>\n",
       "      <td>Royal Challengers Bangalore</td>\n",
       "      <td>0</td>\n",
       "      <td>5</td>\n",
       "      <td>MV Boucher</td>\n",
       "      <td>Wankhede Stadium</td>\n",
       "      <td>SJ Davis</td>\n",
       "      <td>DJ Harper</td>\n",
       "      <td>NaN</td>\n",
       "    </tr>\n",
       "    <tr>\n",
       "      <th>4</th>\n",
       "      <td>64</td>\n",
       "      <td>2008</td>\n",
       "      <td>Kolkata</td>\n",
       "      <td>20-04-2008</td>\n",
       "      <td>Deccan Chargers</td>\n",
       "      <td>Kolkata Knight Riders</td>\n",
       "      <td>Deccan Chargers</td>\n",
       "      <td>bat</td>\n",
       "      <td>normal</td>\n",
       "      <td>0</td>\n",
       "      <td>Kolkata Knight Riders</td>\n",
       "      <td>0</td>\n",
       "      <td>5</td>\n",
       "      <td>DJ Hussey</td>\n",
       "      <td>Eden Gardens</td>\n",
       "      <td>BF Bowden</td>\n",
       "      <td>K Hariharan</td>\n",
       "      <td>NaN</td>\n",
       "    </tr>\n",
       "  </tbody>\n",
       "</table>\n",
       "</div>"
      ],
      "text/plain": [
       "   match_id  season        city        date                  team1  \\\n",
       "0        60    2008   Bangalore  18-04-2008  Kolkata Knight Riders   \n",
       "1        61    2008  Chandigarh  19-04-2008    Chennai Super Kings   \n",
       "2        62    2008       Delhi  19-04-2008       Rajasthan Royals   \n",
       "3        63    2008      Mumbai  20-04-2008         Mumbai Indians   \n",
       "4        64    2008     Kolkata  20-04-2008        Deccan Chargers   \n",
       "\n",
       "                         team2                  toss_winner toss_decision  \\\n",
       "0  Royal Challengers Bangalore  Royal Challengers Bangalore         field   \n",
       "1              Kings XI Punjab          Chennai Super Kings           bat   \n",
       "2             Delhi Daredevils             Rajasthan Royals           bat   \n",
       "3  Royal Challengers Bangalore               Mumbai Indians           bat   \n",
       "4        Kolkata Knight Riders              Deccan Chargers           bat   \n",
       "\n",
       "   result  dl_applied                       winner  win_by_runs  \\\n",
       "0  normal           0        Kolkata Knight Riders          140   \n",
       "1  normal           0          Chennai Super Kings           33   \n",
       "2  normal           0             Delhi Daredevils            0   \n",
       "3  normal           0  Royal Challengers Bangalore            0   \n",
       "4  normal           0        Kolkata Knight Riders            0   \n",
       "\n",
       "   win_by_wickets player_of_match                                       venue  \\\n",
       "0               0     BB McCullum                       M Chinnaswamy Stadium   \n",
       "1               0      MEK Hussey  Punjab Cricket Association Stadium, Mohali   \n",
       "2               9     MF Maharoof                            Feroz Shah Kotla   \n",
       "3               5      MV Boucher                            Wankhede Stadium   \n",
       "4               5       DJ Hussey                                Eden Gardens   \n",
       "\n",
       "     umpire1         umpire2 umpire3  \n",
       "0  Asad Rauf     RE Koertzen     NaN  \n",
       "1  MR Benson      SL Shastri     NaN  \n",
       "2  Aleem Dar  GA Pratapkumar     NaN  \n",
       "3   SJ Davis       DJ Harper     NaN  \n",
       "4  BF Bowden     K Hariharan     NaN  "
      ]
     },
     "execution_count": 14,
     "metadata": {},
     "output_type": "execute_result"
    }
   ],
   "source": [
    "match8_19 = pd.read_csv(\"../input/ipl-2020-player-performance/Matches IPL 2008-2019.csv\",header=0)\n",
    "match20 = pd.read_csv(\"../input/ipl-2020-player-performance/Matches IPL 2020.csv\",header=0)\n",
    "cd_match8_19 = cd.read_csv(\"../input/ipl-2020-player-performance/Matches IPL 2008-2019.csv\",header=0)\n",
    "cd_match20 = cd.read_csv(\"../input/ipl-2020-player-performance/Matches IPL 2020.csv\",header=0)\n",
    "match8_19.head()"
   ]
  },
  {
   "cell_type": "code",
   "execution_count": 15,
   "id": "e2c7cccb",
   "metadata": {
    "execution": {
     "iopub.execute_input": "2022-07-30T17:22:33.122579Z",
     "iopub.status.busy": "2022-07-30T17:22:33.122018Z",
     "iopub.status.idle": "2022-07-30T17:22:33.154072Z",
     "shell.execute_reply": "2022-07-30T17:22:33.152982Z"
    },
    "papermill": {
     "duration": 0.059266,
     "end_time": "2022-07-30T17:22:33.156833",
     "exception": false,
     "start_time": "2022-07-30T17:22:33.097567",
     "status": "completed"
    },
    "tags": []
   },
   "outputs": [
    {
     "name": "stdout",
     "output_type": "stream",
     "text": [
      "0             Chennai Super Kings\n",
      "1                 Deccan Chargers\n",
      "2                  Delhi Capitals\n",
      "3                Delhi Daredevils\n",
      "4                   Gujarat Lions\n",
      "5                 Kings XI Punjab\n",
      "6            Kochi Tuskers Kerala\n",
      "7           Kolkata Knight Riders\n",
      "8                  Mumbai Indians\n",
      "9                   Pune Warriors\n",
      "10               Rajasthan Royals\n",
      "11         Rising Pune Supergiant\n",
      "12        Rising Pune Supergiants\n",
      "13    Royal Challengers Bangalore\n",
      "14            Sunrisers Hyderabad\n",
      "Name: team1, dtype: object\n",
      "0     CSK\n",
      "1      DC\n",
      "2     KKR\n",
      "3    KXIP\n",
      "4      MI\n",
      "5     RCB\n",
      "6      RR\n",
      "7     SRH\n",
      "Name: team1, dtype: object\n"
     ]
    }
   ],
   "source": [
    "teams = match8_19.team1.unique() \n",
    "teams2 = match20.team1.unique() \n",
    "cd_teams = cd_match8_19.team1.unique() \n",
    "cd_teams2 = cd_match20.team1.unique()\n",
    "\n",
    "print(cd_teams) \n",
    "print(cd_teams2)"
   ]
  },
  {
   "cell_type": "code",
   "execution_count": 16,
   "id": "a8ffda86",
   "metadata": {
    "execution": {
     "iopub.execute_input": "2022-07-30T17:22:33.208583Z",
     "iopub.status.busy": "2022-07-30T17:22:33.208112Z",
     "iopub.status.idle": "2022-07-30T17:22:33.217252Z",
     "shell.execute_reply": "2022-07-30T17:22:33.216214Z"
    },
    "papermill": {
     "duration": 0.037522,
     "end_time": "2022-07-30T17:22:33.220257",
     "exception": false,
     "start_time": "2022-07-30T17:22:33.182735",
     "status": "completed"
    },
    "tags": []
   },
   "outputs": [],
   "source": [
    "short = { 'Kolkata Knight Riders':'KKR','Chennai Super Kings':'CSK','Rajasthan Royals':'RR',\n",
    "         'Mumbai Indians':'MI','Deccan Chargers':'SRH','Kings XI Punjab':'KXIP',\n",
    "         'Royal Challengers Bangalore':'RCB','Delhi Daredevils':'DC',\n",
    "         'Sunrisers Hyderabad':'SRH','Delhi Capitals':'DC','Rising Pune Supergiants':'RPS',\n",
    "         'Gujarat Lions':'GL','Rising Pune Supergiant':'RPS','Pune Warriors':'RPS',\n",
    "         'Kochi Tuskers Kerala':'KTK'}"
   ]
  },
  {
   "cell_type": "markdown",
   "id": "807fb397",
   "metadata": {
    "papermill": {
     "duration": 0.024482,
     "end_time": "2022-07-30T17:22:33.268348",
     "exception": false,
     "start_time": "2022-07-30T17:22:33.243866",
     "status": "completed"
    },
    "tags": []
   },
   "source": [
    "Matches 2020 have teams in short form like MI, CSK, RCb, thus, we would also change team names to short form in Matches 2008-2019."
   ]
  },
  {
   "cell_type": "code",
   "execution_count": 17,
   "id": "8b74a4d7",
   "metadata": {
    "execution": {
     "iopub.execute_input": "2022-07-30T17:22:33.317969Z",
     "iopub.status.busy": "2022-07-30T17:22:33.317548Z",
     "iopub.status.idle": "2022-07-30T17:22:33.418813Z",
     "shell.execute_reply": "2022-07-30T17:22:33.417867Z"
    },
    "papermill": {
     "duration": 0.128392,
     "end_time": "2022-07-30T17:22:33.421083",
     "exception": false,
     "start_time": "2022-07-30T17:22:33.292691",
     "status": "completed"
    },
    "tags": []
   },
   "outputs": [
    {
     "data": {
      "text/html": [
       "<div>\n",
       "<style scoped>\n",
       "    .dataframe tbody tr th:only-of-type {\n",
       "        vertical-align: middle;\n",
       "    }\n",
       "\n",
       "    .dataframe tbody tr th {\n",
       "        vertical-align: top;\n",
       "    }\n",
       "\n",
       "    .dataframe thead th {\n",
       "        text-align: right;\n",
       "    }\n",
       "</style>\n",
       "<table border=\"1\" class=\"dataframe\">\n",
       "  <thead>\n",
       "    <tr style=\"text-align: right;\">\n",
       "      <th></th>\n",
       "      <th>match_id</th>\n",
       "      <th>season</th>\n",
       "      <th>city</th>\n",
       "      <th>date</th>\n",
       "      <th>team1</th>\n",
       "      <th>team2</th>\n",
       "      <th>toss_winner</th>\n",
       "      <th>toss_decision</th>\n",
       "      <th>result</th>\n",
       "      <th>dl_applied</th>\n",
       "      <th>winner</th>\n",
       "      <th>win_by_runs</th>\n",
       "      <th>win_by_wickets</th>\n",
       "      <th>player_of_match</th>\n",
       "      <th>venue</th>\n",
       "      <th>umpire1</th>\n",
       "      <th>umpire2</th>\n",
       "      <th>umpire3</th>\n",
       "    </tr>\n",
       "  </thead>\n",
       "  <tbody>\n",
       "    <tr>\n",
       "      <th>0</th>\n",
       "      <td>60</td>\n",
       "      <td>2008</td>\n",
       "      <td>Bangalore</td>\n",
       "      <td>18-04-2008</td>\n",
       "      <td>KKR</td>\n",
       "      <td>RCB</td>\n",
       "      <td>Royal Challengers Bangalore</td>\n",
       "      <td>field</td>\n",
       "      <td>normal</td>\n",
       "      <td>0</td>\n",
       "      <td>Kolkata Knight Riders</td>\n",
       "      <td>140</td>\n",
       "      <td>0</td>\n",
       "      <td>BB McCullum</td>\n",
       "      <td>M Chinnaswamy Stadium</td>\n",
       "      <td>Asad Rauf</td>\n",
       "      <td>RE Koertzen</td>\n",
       "      <td>&lt;NA&gt;</td>\n",
       "    </tr>\n",
       "    <tr>\n",
       "      <th>1</th>\n",
       "      <td>61</td>\n",
       "      <td>2008</td>\n",
       "      <td>Chandigarh</td>\n",
       "      <td>19-04-2008</td>\n",
       "      <td>CSK</td>\n",
       "      <td>KXIP</td>\n",
       "      <td>Chennai Super Kings</td>\n",
       "      <td>bat</td>\n",
       "      <td>normal</td>\n",
       "      <td>0</td>\n",
       "      <td>Chennai Super Kings</td>\n",
       "      <td>33</td>\n",
       "      <td>0</td>\n",
       "      <td>MEK Hussey</td>\n",
       "      <td>Punjab Cricket Association Stadium, Mohali</td>\n",
       "      <td>MR Benson</td>\n",
       "      <td>SL Shastri</td>\n",
       "      <td>&lt;NA&gt;</td>\n",
       "    </tr>\n",
       "    <tr>\n",
       "      <th>2</th>\n",
       "      <td>62</td>\n",
       "      <td>2008</td>\n",
       "      <td>Delhi</td>\n",
       "      <td>19-04-2008</td>\n",
       "      <td>RR</td>\n",
       "      <td>DC</td>\n",
       "      <td>Rajasthan Royals</td>\n",
       "      <td>bat</td>\n",
       "      <td>normal</td>\n",
       "      <td>0</td>\n",
       "      <td>Delhi Daredevils</td>\n",
       "      <td>0</td>\n",
       "      <td>9</td>\n",
       "      <td>MF Maharoof</td>\n",
       "      <td>Feroz Shah Kotla</td>\n",
       "      <td>Aleem Dar</td>\n",
       "      <td>GA Pratapkumar</td>\n",
       "      <td>&lt;NA&gt;</td>\n",
       "    </tr>\n",
       "    <tr>\n",
       "      <th>3</th>\n",
       "      <td>63</td>\n",
       "      <td>2008</td>\n",
       "      <td>Mumbai</td>\n",
       "      <td>20-04-2008</td>\n",
       "      <td>MI</td>\n",
       "      <td>RCB</td>\n",
       "      <td>Mumbai Indians</td>\n",
       "      <td>bat</td>\n",
       "      <td>normal</td>\n",
       "      <td>0</td>\n",
       "      <td>Royal Challengers Bangalore</td>\n",
       "      <td>0</td>\n",
       "      <td>5</td>\n",
       "      <td>MV Boucher</td>\n",
       "      <td>Wankhede Stadium</td>\n",
       "      <td>SJ Davis</td>\n",
       "      <td>DJ Harper</td>\n",
       "      <td>&lt;NA&gt;</td>\n",
       "    </tr>\n",
       "    <tr>\n",
       "      <th>4</th>\n",
       "      <td>64</td>\n",
       "      <td>2008</td>\n",
       "      <td>Kolkata</td>\n",
       "      <td>20-04-2008</td>\n",
       "      <td>SRH</td>\n",
       "      <td>KKR</td>\n",
       "      <td>Deccan Chargers</td>\n",
       "      <td>bat</td>\n",
       "      <td>normal</td>\n",
       "      <td>0</td>\n",
       "      <td>Kolkata Knight Riders</td>\n",
       "      <td>0</td>\n",
       "      <td>5</td>\n",
       "      <td>DJ Hussey</td>\n",
       "      <td>Eden Gardens</td>\n",
       "      <td>BF Bowden</td>\n",
       "      <td>K Hariharan</td>\n",
       "      <td>&lt;NA&gt;</td>\n",
       "    </tr>\n",
       "  </tbody>\n",
       "</table>\n",
       "</div>"
      ],
      "text/plain": [
       "   match_id  season        city        date team1 team2  \\\n",
       "0        60    2008   Bangalore  18-04-2008   KKR   RCB   \n",
       "1        61    2008  Chandigarh  19-04-2008   CSK  KXIP   \n",
       "2        62    2008       Delhi  19-04-2008    RR    DC   \n",
       "3        63    2008      Mumbai  20-04-2008    MI   RCB   \n",
       "4        64    2008     Kolkata  20-04-2008   SRH   KKR   \n",
       "\n",
       "                   toss_winner toss_decision  result  dl_applied  \\\n",
       "0  Royal Challengers Bangalore         field  normal           0   \n",
       "1          Chennai Super Kings           bat  normal           0   \n",
       "2             Rajasthan Royals           bat  normal           0   \n",
       "3               Mumbai Indians           bat  normal           0   \n",
       "4              Deccan Chargers           bat  normal           0   \n",
       "\n",
       "                        winner  win_by_runs  win_by_wickets player_of_match  \\\n",
       "0        Kolkata Knight Riders          140               0     BB McCullum   \n",
       "1          Chennai Super Kings           33               0      MEK Hussey   \n",
       "2             Delhi Daredevils            0               9     MF Maharoof   \n",
       "3  Royal Challengers Bangalore            0               5      MV Boucher   \n",
       "4        Kolkata Knight Riders            0               5       DJ Hussey   \n",
       "\n",
       "                                        venue    umpire1         umpire2  \\\n",
       "0                       M Chinnaswamy Stadium  Asad Rauf     RE Koertzen   \n",
       "1  Punjab Cricket Association Stadium, Mohali  MR Benson      SL Shastri   \n",
       "2                            Feroz Shah Kotla  Aleem Dar  GA Pratapkumar   \n",
       "3                            Wankhede Stadium   SJ Davis       DJ Harper   \n",
       "4                                Eden Gardens  BF Bowden     K Hariharan   \n",
       "\n",
       "  umpire3  \n",
       "0    <NA>  \n",
       "1    <NA>  \n",
       "2    <NA>  \n",
       "3    <NA>  \n",
       "4    <NA>  "
      ]
     },
     "execution_count": 17,
     "metadata": {},
     "output_type": "execute_result"
    }
   ],
   "source": [
    "match8_19['team1'] = match8_19['team1'].map(short) \n",
    "match8_19['team2'] = match8_19['team2'].map(short)\n",
    "cd_match8_19['team1'] = cd_match8_19['team1'].map(short) \n",
    "cd_match8_19['team2'] = cd_match8_19['team2'].map(short)\n",
    "cd_match8_19.head()"
   ]
  },
  {
   "cell_type": "code",
   "execution_count": 18,
   "id": "6ed1c129",
   "metadata": {
    "execution": {
     "iopub.execute_input": "2022-07-30T17:22:33.452759Z",
     "iopub.status.busy": "2022-07-30T17:22:33.452367Z",
     "iopub.status.idle": "2022-07-30T17:22:33.500005Z",
     "shell.execute_reply": "2022-07-30T17:22:33.498920Z"
    },
    "papermill": {
     "duration": 0.06632,
     "end_time": "2022-07-30T17:22:33.502784",
     "exception": false,
     "start_time": "2022-07-30T17:22:33.436464",
     "status": "completed"
    },
    "tags": []
   },
   "outputs": [
    {
     "data": {
      "text/html": [
       "<div>\n",
       "<style scoped>\n",
       "    .dataframe tbody tr th:only-of-type {\n",
       "        vertical-align: middle;\n",
       "    }\n",
       "\n",
       "    .dataframe tbody tr th {\n",
       "        vertical-align: top;\n",
       "    }\n",
       "\n",
       "    .dataframe thead th {\n",
       "        text-align: right;\n",
       "    }\n",
       "</style>\n",
       "<table border=\"1\" class=\"dataframe\">\n",
       "  <thead>\n",
       "    <tr style=\"text-align: right;\">\n",
       "      <th></th>\n",
       "      <th>Match_ID</th>\n",
       "      <th>season</th>\n",
       "      <th>city</th>\n",
       "      <th>date</th>\n",
       "      <th>team1</th>\n",
       "      <th>team2</th>\n",
       "      <th>toss_winner</th>\n",
       "      <th>toss_decision</th>\n",
       "      <th>result</th>\n",
       "      <th>dl_applied</th>\n",
       "      <th>winner</th>\n",
       "      <th>win_by_runs</th>\n",
       "      <th>win_by_wickets</th>\n",
       "      <th>player_of_match</th>\n",
       "      <th>venue</th>\n",
       "      <th>umpire1</th>\n",
       "      <th>umpire2</th>\n",
       "      <th>umpire3</th>\n",
       "    </tr>\n",
       "  </thead>\n",
       "  <tbody>\n",
       "    <tr>\n",
       "      <th>0</th>\n",
       "      <td>60</td>\n",
       "      <td>2008</td>\n",
       "      <td>Bangalore</td>\n",
       "      <td>18-04-2008</td>\n",
       "      <td>KKR</td>\n",
       "      <td>RCB</td>\n",
       "      <td>Royal Challengers Bangalore</td>\n",
       "      <td>field</td>\n",
       "      <td>normal</td>\n",
       "      <td>0</td>\n",
       "      <td>Kolkata Knight Riders</td>\n",
       "      <td>140</td>\n",
       "      <td>0</td>\n",
       "      <td>BB McCullum</td>\n",
       "      <td>M Chinnaswamy Stadium</td>\n",
       "      <td>Asad Rauf</td>\n",
       "      <td>RE Koertzen</td>\n",
       "      <td>&lt;NA&gt;</td>\n",
       "    </tr>\n",
       "    <tr>\n",
       "      <th>1</th>\n",
       "      <td>61</td>\n",
       "      <td>2008</td>\n",
       "      <td>Chandigarh</td>\n",
       "      <td>19-04-2008</td>\n",
       "      <td>CSK</td>\n",
       "      <td>KXIP</td>\n",
       "      <td>Chennai Super Kings</td>\n",
       "      <td>bat</td>\n",
       "      <td>normal</td>\n",
       "      <td>0</td>\n",
       "      <td>Chennai Super Kings</td>\n",
       "      <td>33</td>\n",
       "      <td>0</td>\n",
       "      <td>MEK Hussey</td>\n",
       "      <td>Punjab Cricket Association Stadium, Mohali</td>\n",
       "      <td>MR Benson</td>\n",
       "      <td>SL Shastri</td>\n",
       "      <td>&lt;NA&gt;</td>\n",
       "    </tr>\n",
       "    <tr>\n",
       "      <th>2</th>\n",
       "      <td>62</td>\n",
       "      <td>2008</td>\n",
       "      <td>Delhi</td>\n",
       "      <td>19-04-2008</td>\n",
       "      <td>RR</td>\n",
       "      <td>DC</td>\n",
       "      <td>Rajasthan Royals</td>\n",
       "      <td>bat</td>\n",
       "      <td>normal</td>\n",
       "      <td>0</td>\n",
       "      <td>Delhi Daredevils</td>\n",
       "      <td>0</td>\n",
       "      <td>9</td>\n",
       "      <td>MF Maharoof</td>\n",
       "      <td>Feroz Shah Kotla</td>\n",
       "      <td>Aleem Dar</td>\n",
       "      <td>GA Pratapkumar</td>\n",
       "      <td>&lt;NA&gt;</td>\n",
       "    </tr>\n",
       "    <tr>\n",
       "      <th>3</th>\n",
       "      <td>63</td>\n",
       "      <td>2008</td>\n",
       "      <td>Mumbai</td>\n",
       "      <td>20-04-2008</td>\n",
       "      <td>MI</td>\n",
       "      <td>RCB</td>\n",
       "      <td>Mumbai Indians</td>\n",
       "      <td>bat</td>\n",
       "      <td>normal</td>\n",
       "      <td>0</td>\n",
       "      <td>Royal Challengers Bangalore</td>\n",
       "      <td>0</td>\n",
       "      <td>5</td>\n",
       "      <td>MV Boucher</td>\n",
       "      <td>Wankhede Stadium</td>\n",
       "      <td>SJ Davis</td>\n",
       "      <td>DJ Harper</td>\n",
       "      <td>&lt;NA&gt;</td>\n",
       "    </tr>\n",
       "    <tr>\n",
       "      <th>4</th>\n",
       "      <td>64</td>\n",
       "      <td>2008</td>\n",
       "      <td>Kolkata</td>\n",
       "      <td>20-04-2008</td>\n",
       "      <td>SRH</td>\n",
       "      <td>KKR</td>\n",
       "      <td>Deccan Chargers</td>\n",
       "      <td>bat</td>\n",
       "      <td>normal</td>\n",
       "      <td>0</td>\n",
       "      <td>Kolkata Knight Riders</td>\n",
       "      <td>0</td>\n",
       "      <td>5</td>\n",
       "      <td>DJ Hussey</td>\n",
       "      <td>Eden Gardens</td>\n",
       "      <td>BF Bowden</td>\n",
       "      <td>K Hariharan</td>\n",
       "      <td>&lt;NA&gt;</td>\n",
       "    </tr>\n",
       "  </tbody>\n",
       "</table>\n",
       "</div>"
      ],
      "text/plain": [
       "   Match_ID  season        city        date team1 team2  \\\n",
       "0        60    2008   Bangalore  18-04-2008   KKR   RCB   \n",
       "1        61    2008  Chandigarh  19-04-2008   CSK  KXIP   \n",
       "2        62    2008       Delhi  19-04-2008    RR    DC   \n",
       "3        63    2008      Mumbai  20-04-2008    MI   RCB   \n",
       "4        64    2008     Kolkata  20-04-2008   SRH   KKR   \n",
       "\n",
       "                   toss_winner toss_decision  result  dl_applied  \\\n",
       "0  Royal Challengers Bangalore         field  normal           0   \n",
       "1          Chennai Super Kings           bat  normal           0   \n",
       "2             Rajasthan Royals           bat  normal           0   \n",
       "3               Mumbai Indians           bat  normal           0   \n",
       "4              Deccan Chargers           bat  normal           0   \n",
       "\n",
       "                        winner  win_by_runs  win_by_wickets player_of_match  \\\n",
       "0        Kolkata Knight Riders          140               0     BB McCullum   \n",
       "1          Chennai Super Kings           33               0      MEK Hussey   \n",
       "2             Delhi Daredevils            0               9     MF Maharoof   \n",
       "3  Royal Challengers Bangalore            0               5      MV Boucher   \n",
       "4        Kolkata Knight Riders            0               5       DJ Hussey   \n",
       "\n",
       "                                        venue    umpire1         umpire2  \\\n",
       "0                       M Chinnaswamy Stadium  Asad Rauf     RE Koertzen   \n",
       "1  Punjab Cricket Association Stadium, Mohali  MR Benson      SL Shastri   \n",
       "2                            Feroz Shah Kotla  Aleem Dar  GA Pratapkumar   \n",
       "3                            Wankhede Stadium   SJ Davis       DJ Harper   \n",
       "4                                Eden Gardens  BF Bowden     K Hariharan   \n",
       "\n",
       "  umpire3  \n",
       "0    <NA>  \n",
       "1    <NA>  \n",
       "2    <NA>  \n",
       "3    <NA>  \n",
       "4    <NA>  "
      ]
     },
     "execution_count": 18,
     "metadata": {},
     "output_type": "execute_result"
    }
   ],
   "source": [
    "match8_19.rename(columns = {'match_id':'Match_ID'}, inplace = True) \n",
    "cd_match8_19.rename(columns = {'match_id':'Match_ID'}, inplace = True) \n",
    "cd_match8_19.head()"
   ]
  },
  {
   "cell_type": "code",
   "execution_count": 19,
   "id": "ae79a5af",
   "metadata": {
    "execution": {
     "iopub.execute_input": "2022-07-30T17:22:33.533313Z",
     "iopub.status.busy": "2022-07-30T17:22:33.533030Z",
     "iopub.status.idle": "2022-07-30T17:22:33.572907Z",
     "shell.execute_reply": "2022-07-30T17:22:33.571883Z"
    },
    "papermill": {
     "duration": 0.05756,
     "end_time": "2022-07-30T17:22:33.575190",
     "exception": false,
     "start_time": "2022-07-30T17:22:33.517630",
     "status": "completed"
    },
    "tags": []
   },
   "outputs": [
    {
     "data": {
      "text/html": [
       "<div>\n",
       "<style scoped>\n",
       "    .dataframe tbody tr th:only-of-type {\n",
       "        vertical-align: middle;\n",
       "    }\n",
       "\n",
       "    .dataframe tbody tr th {\n",
       "        vertical-align: top;\n",
       "    }\n",
       "\n",
       "    .dataframe thead th {\n",
       "        text-align: right;\n",
       "    }\n",
       "</style>\n",
       "<table border=\"1\" class=\"dataframe\">\n",
       "  <thead>\n",
       "    <tr style=\"text-align: right;\">\n",
       "      <th></th>\n",
       "      <th>Match_ID</th>\n",
       "      <th>Player</th>\n",
       "      <th>Total Points</th>\n",
       "      <th>team1</th>\n",
       "      <th>team2</th>\n",
       "    </tr>\n",
       "  </thead>\n",
       "  <tbody>\n",
       "    <tr>\n",
       "      <th>0</th>\n",
       "      <td>150</td>\n",
       "      <td>AM Nayar</td>\n",
       "      <td>19</td>\n",
       "      <td>MI</td>\n",
       "      <td>DC</td>\n",
       "    </tr>\n",
       "    <tr>\n",
       "      <th>1</th>\n",
       "      <td>151</td>\n",
       "      <td>AC Gilchrist</td>\n",
       "      <td>26</td>\n",
       "      <td>SRH</td>\n",
       "      <td>KXIP</td>\n",
       "    </tr>\n",
       "    <tr>\n",
       "      <th>2</th>\n",
       "      <td>151</td>\n",
       "      <td>B Lee</td>\n",
       "      <td>42</td>\n",
       "      <td>SRH</td>\n",
       "      <td>KXIP</td>\n",
       "    </tr>\n",
       "    <tr>\n",
       "      <th>3</th>\n",
       "      <td>152</td>\n",
       "      <td>SM Harwood</td>\n",
       "      <td>6</td>\n",
       "      <td>RR</td>\n",
       "      <td>CSK</td>\n",
       "    </tr>\n",
       "    <tr>\n",
       "      <th>4</th>\n",
       "      <td>150</td>\n",
       "      <td>AM Rahane</td>\n",
       "      <td>14</td>\n",
       "      <td>MI</td>\n",
       "      <td>DC</td>\n",
       "    </tr>\n",
       "  </tbody>\n",
       "</table>\n",
       "</div>"
      ],
      "text/plain": [
       "   Match_ID        Player  Total Points team1 team2\n",
       "0       150      AM Nayar            19    MI    DC\n",
       "1       151  AC Gilchrist            26   SRH  KXIP\n",
       "2       151         B Lee            42   SRH  KXIP\n",
       "3       152    SM Harwood             6    RR   CSK\n",
       "4       150     AM Rahane            14    MI    DC"
      ]
     },
     "execution_count": 19,
     "metadata": {},
     "output_type": "execute_result"
    }
   ],
   "source": [
    "train_m = pd.merge(train[['Match_ID','Player','Total Points']], match8_19[['Match_ID','team1','team2']], on = 'Match_ID', how='inner')\n",
    "cd_train_m = cd.merge(cd_train[['Match_ID','Player','Total Points']], cd_match8_19[['Match_ID','team1','team2']], on = 'Match_ID', how='inner')\n",
    "cd_train_m.head()"
   ]
  },
  {
   "cell_type": "markdown",
   "id": "2439d290",
   "metadata": {
    "papermill": {
     "duration": 0.014565,
     "end_time": "2022-07-30T17:22:33.604603",
     "exception": false,
     "start_time": "2022-07-30T17:22:33.590038",
     "status": "completed"
    },
    "tags": []
   },
   "source": [
    "some of the players are new, so we have to introduce them to our training data else a problem could arise while fitting the data"
   ]
  },
  {
   "cell_type": "code",
   "execution_count": 20,
   "id": "7c49ebbb",
   "metadata": {
    "execution": {
     "iopub.execute_input": "2022-07-30T17:22:33.636158Z",
     "iopub.status.busy": "2022-07-30T17:22:33.635828Z",
     "iopub.status.idle": "2022-07-30T17:22:33.666383Z",
     "shell.execute_reply": "2022-07-30T17:22:33.665372Z"
    },
    "papermill": {
     "duration": 0.048593,
     "end_time": "2022-07-30T17:22:33.668540",
     "exception": false,
     "start_time": "2022-07-30T17:22:33.619947",
     "status": "completed"
    },
    "tags": []
   },
   "outputs": [
    {
     "data": {
      "text/html": [
       "<div>\n",
       "<style scoped>\n",
       "    .dataframe tbody tr th:only-of-type {\n",
       "        vertical-align: middle;\n",
       "    }\n",
       "\n",
       "    .dataframe tbody tr th {\n",
       "        vertical-align: top;\n",
       "    }\n",
       "\n",
       "    .dataframe thead th {\n",
       "        text-align: right;\n",
       "    }\n",
       "</style>\n",
       "<table border=\"1\" class=\"dataframe\">\n",
       "  <thead>\n",
       "    <tr style=\"text-align: right;\">\n",
       "      <th></th>\n",
       "      <th>Match_ID</th>\n",
       "      <th>city</th>\n",
       "      <th>date</th>\n",
       "      <th>team1</th>\n",
       "      <th>team2</th>\n",
       "      <th>venue</th>\n",
       "      <th>umpire1</th>\n",
       "      <th>umpire2</th>\n",
       "      <th>umpire3</th>\n",
       "    </tr>\n",
       "  </thead>\n",
       "  <tbody>\n",
       "    <tr>\n",
       "      <th>0</th>\n",
       "      <td>1216492</td>\n",
       "      <td>Abu Dhabi</td>\n",
       "      <td>9/19/2020</td>\n",
       "      <td>MI</td>\n",
       "      <td>CSK</td>\n",
       "      <td>Sheikh Zayed Stadium, Abu Dhabi</td>\n",
       "      <td>Chris Gaffaney</td>\n",
       "      <td>Virender Sharma</td>\n",
       "      <td>Sundaram Ravi</td>\n",
       "    </tr>\n",
       "    <tr>\n",
       "      <th>1</th>\n",
       "      <td>1216493</td>\n",
       "      <td>Dubai (DSC)</td>\n",
       "      <td>9/20/2020</td>\n",
       "      <td>DC</td>\n",
       "      <td>KXIP</td>\n",
       "      <td>Dubai International Cricket Stadium</td>\n",
       "      <td>Anil Chaudhary</td>\n",
       "      <td>Nitin Menon</td>\n",
       "      <td>Paul Reiffel</td>\n",
       "    </tr>\n",
       "    <tr>\n",
       "      <th>2</th>\n",
       "      <td>1216534</td>\n",
       "      <td>Dubai (DSC)</td>\n",
       "      <td>9/21/2020</td>\n",
       "      <td>SRH</td>\n",
       "      <td>RCB</td>\n",
       "      <td>Dubai International Cricket Stadium</td>\n",
       "      <td>Anil Dandekar</td>\n",
       "      <td>Nitin Menon</td>\n",
       "      <td>Anil Chaudhary</td>\n",
       "    </tr>\n",
       "    <tr>\n",
       "      <th>3</th>\n",
       "      <td>1216496</td>\n",
       "      <td>Sharjah</td>\n",
       "      <td>9/22/2020</td>\n",
       "      <td>RR</td>\n",
       "      <td>CSK</td>\n",
       "      <td>Sharjah Cricket Stadium</td>\n",
       "      <td>Chettithody Shamshuddin</td>\n",
       "      <td>Vineet Kulkarni</td>\n",
       "      <td>KN Ananthapadmanabhan</td>\n",
       "    </tr>\n",
       "    <tr>\n",
       "      <th>4</th>\n",
       "      <td>1216508</td>\n",
       "      <td>Abu Dhabi</td>\n",
       "      <td>9/23/2020</td>\n",
       "      <td>KKR</td>\n",
       "      <td>MI</td>\n",
       "      <td>Sheikh Zayed Stadium, Abu Dhabi</td>\n",
       "      <td>Chris Gaffaney</td>\n",
       "      <td>Sundaram Ravi</td>\n",
       "      <td>Virender Sharma</td>\n",
       "    </tr>\n",
       "  </tbody>\n",
       "</table>\n",
       "</div>"
      ],
      "text/plain": [
       "   Match_ID         city       date team1 team2  \\\n",
       "0   1216492    Abu Dhabi  9/19/2020    MI   CSK   \n",
       "1   1216493  Dubai (DSC)  9/20/2020    DC  KXIP   \n",
       "2   1216534  Dubai (DSC)  9/21/2020   SRH   RCB   \n",
       "3   1216496      Sharjah  9/22/2020    RR   CSK   \n",
       "4   1216508    Abu Dhabi  9/23/2020   KKR    MI   \n",
       "\n",
       "                                 venue                  umpire1  \\\n",
       "0      Sheikh Zayed Stadium, Abu Dhabi           Chris Gaffaney   \n",
       "1  Dubai International Cricket Stadium           Anil Chaudhary   \n",
       "2  Dubai International Cricket Stadium            Anil Dandekar   \n",
       "3              Sharjah Cricket Stadium  Chettithody Shamshuddin   \n",
       "4      Sheikh Zayed Stadium, Abu Dhabi           Chris Gaffaney   \n",
       "\n",
       "           umpire2                umpire3  \n",
       "0  Virender Sharma          Sundaram Ravi  \n",
       "1      Nitin Menon           Paul Reiffel  \n",
       "2      Nitin Menon         Anil Chaudhary  \n",
       "3  Vineet Kulkarni  KN Ananthapadmanabhan  \n",
       "4    Sundaram Ravi        Virender Sharma  "
      ]
     },
     "execution_count": 20,
     "metadata": {},
     "output_type": "execute_result"
    }
   ],
   "source": [
    "match20.rename(columns = {'match_id':'Match_ID'}, inplace = True)\n",
    "cd_match20.rename(columns = {'match_id':'Match_ID'}, inplace = True) \n",
    "cd_match20.head()"
   ]
  },
  {
   "cell_type": "code",
   "execution_count": 21,
   "id": "8eafda7a",
   "metadata": {
    "execution": {
     "iopub.execute_input": "2022-07-30T17:22:33.699838Z",
     "iopub.status.busy": "2022-07-30T17:22:33.699507Z",
     "iopub.status.idle": "2022-07-30T17:22:33.730455Z",
     "shell.execute_reply": "2022-07-30T17:22:33.729474Z"
    },
    "papermill": {
     "duration": 0.049226,
     "end_time": "2022-07-30T17:22:33.732719",
     "exception": false,
     "start_time": "2022-07-30T17:22:33.683493",
     "status": "completed"
    },
    "tags": []
   },
   "outputs": [
    {
     "data": {
      "text/html": [
       "<div>\n",
       "<style scoped>\n",
       "    .dataframe tbody tr th:only-of-type {\n",
       "        vertical-align: middle;\n",
       "    }\n",
       "\n",
       "    .dataframe tbody tr th {\n",
       "        vertical-align: top;\n",
       "    }\n",
       "\n",
       "    .dataframe thead th {\n",
       "        text-align: right;\n",
       "    }\n",
       "</style>\n",
       "<table border=\"1\" class=\"dataframe\">\n",
       "  <thead>\n",
       "    <tr style=\"text-align: right;\">\n",
       "      <th></th>\n",
       "      <th>Match_ID</th>\n",
       "      <th>Player</th>\n",
       "      <th>Total Points</th>\n",
       "      <th>team1</th>\n",
       "      <th>team2</th>\n",
       "    </tr>\n",
       "  </thead>\n",
       "  <tbody>\n",
       "    <tr>\n",
       "      <th>0</th>\n",
       "      <td>1237180</td>\n",
       "      <td>Praveen Dubey</td>\n",
       "      <td>0</td>\n",
       "      <td>DC</td>\n",
       "      <td>SRH</td>\n",
       "    </tr>\n",
       "    <tr>\n",
       "      <th>1</th>\n",
       "      <td>1237181</td>\n",
       "      <td>HV Patel</td>\n",
       "      <td>0</td>\n",
       "      <td>DC</td>\n",
       "      <td>MI</td>\n",
       "    </tr>\n",
       "    <tr>\n",
       "      <th>2</th>\n",
       "      <td>1237180</td>\n",
       "      <td>SP Goswami</td>\n",
       "      <td>0</td>\n",
       "      <td>DC</td>\n",
       "      <td>SRH</td>\n",
       "    </tr>\n",
       "    <tr>\n",
       "      <th>3</th>\n",
       "      <td>1237181</td>\n",
       "      <td>Praveen Dubey</td>\n",
       "      <td>0</td>\n",
       "      <td>DC</td>\n",
       "      <td>MI</td>\n",
       "    </tr>\n",
       "    <tr>\n",
       "      <th>4</th>\n",
       "      <td>1237180</td>\n",
       "      <td>Priyam Garg</td>\n",
       "      <td>0</td>\n",
       "      <td>DC</td>\n",
       "      <td>SRH</td>\n",
       "    </tr>\n",
       "  </tbody>\n",
       "</table>\n",
       "</div>"
      ],
      "text/plain": [
       "   Match_ID         Player  Total Points team1 team2\n",
       "0   1237180  Praveen Dubey             0    DC   SRH\n",
       "1   1237181       HV Patel             0    DC    MI\n",
       "2   1237180     SP Goswami             0    DC   SRH\n",
       "3   1237181  Praveen Dubey             0    DC    MI\n",
       "4   1237180    Priyam Garg             0    DC   SRH"
      ]
     },
     "execution_count": 21,
     "metadata": {},
     "output_type": "execute_result"
    }
   ],
   "source": [
    "submit_m = pd.merge(submission[['Match_ID','Player','Total Points']], match20[['Match_ID','team1','team2']], on = 'Match_ID', how='inner')\n",
    "cd_submit_m = cd.merge(cd_submission[['Match_ID','Player','Total Points']], cd_match20[['Match_ID','team1','team2']], on = 'Match_ID', how='inner')\n",
    "cd_submit_m.head()"
   ]
  },
  {
   "cell_type": "code",
   "execution_count": 22,
   "id": "ba9f6067",
   "metadata": {
    "execution": {
     "iopub.execute_input": "2022-07-30T17:22:33.765296Z",
     "iopub.status.busy": "2022-07-30T17:22:33.764569Z",
     "iopub.status.idle": "2022-07-30T17:22:33.781523Z",
     "shell.execute_reply": "2022-07-30T17:22:33.779788Z"
    },
    "papermill": {
     "duration": 0.03529,
     "end_time": "2022-07-30T17:22:33.783479",
     "exception": false,
     "start_time": "2022-07-30T17:22:33.748189",
     "status": "completed"
    },
    "tags": []
   },
   "outputs": [
    {
     "name": "stdout",
     "output_type": "stream",
     "text": [
      "<class 'cudf.core.dataframe.DataFrame'>\n",
      "Int64Index: 17199 entries, 0 to 1282\n",
      "Data columns (total 5 columns):\n",
      " #   Column        Non-Null Count  Dtype\n",
      "---  ------        --------------  -----\n",
      " 0   Match_ID      17199 non-null  int64\n",
      " 1   Player        17199 non-null  object\n",
      " 2   Total Points  17199 non-null  int64\n",
      " 3   team1         17199 non-null  object\n",
      " 4   team2         17199 non-null  object\n",
      "dtypes: int64(2), object(3)\n",
      "memory usage: 855.1+ KB\n"
     ]
    }
   ],
   "source": [
    "all_added = pd.concat([train_m,submit_m]) \n",
    "cd_all_added = cd.concat([cd_train_m,cd_submit_m]) \n",
    "cd_all_added.info()"
   ]
  },
  {
   "cell_type": "markdown",
   "id": "f4bf91b2",
   "metadata": {
    "execution": {
     "iopub.execute_input": "2022-07-30T17:05:47.488374Z",
     "iopub.status.busy": "2022-07-30T17:05:47.487953Z",
     "iopub.status.idle": "2022-07-30T17:05:47.498123Z",
     "shell.execute_reply": "2022-07-30T17:05:47.496072Z",
     "shell.execute_reply.started": "2022-07-30T17:05:47.488342Z"
    },
    "papermill": {
     "duration": 0.014802,
     "end_time": "2022-07-30T17:22:33.814178",
     "exception": false,
     "start_time": "2022-07-30T17:22:33.799376",
     "status": "completed"
    },
    "tags": []
   },
   "source": [
    "Adding players average scores"
   ]
  },
  {
   "cell_type": "code",
   "execution_count": 23,
   "id": "cc98dad6",
   "metadata": {
    "execution": {
     "iopub.execute_input": "2022-07-30T17:22:33.846953Z",
     "iopub.status.busy": "2022-07-30T17:22:33.845435Z",
     "iopub.status.idle": "2022-07-30T17:22:33.881248Z",
     "shell.execute_reply": "2022-07-30T17:22:33.880324Z"
    },
    "papermill": {
     "duration": 0.054034,
     "end_time": "2022-07-30T17:22:33.883134",
     "exception": false,
     "start_time": "2022-07-30T17:22:33.829100",
     "status": "completed"
    },
    "tags": []
   },
   "outputs": [
    {
     "data": {
      "text/html": [
       "<div>\n",
       "<style scoped>\n",
       "    .dataframe tbody tr th:only-of-type {\n",
       "        vertical-align: middle;\n",
       "    }\n",
       "\n",
       "    .dataframe tbody tr th {\n",
       "        vertical-align: top;\n",
       "    }\n",
       "\n",
       "    .dataframe thead th {\n",
       "        text-align: right;\n",
       "    }\n",
       "</style>\n",
       "<table border=\"1\" class=\"dataframe\">\n",
       "  <thead>\n",
       "    <tr style=\"text-align: right;\">\n",
       "      <th></th>\n",
       "      <th>Player</th>\n",
       "      <th>Avg</th>\n",
       "    </tr>\n",
       "  </thead>\n",
       "  <tbody>\n",
       "    <tr>\n",
       "      <th>0</th>\n",
       "      <td>BB Samantray</td>\n",
       "      <td>18.750000</td>\n",
       "    </tr>\n",
       "    <tr>\n",
       "      <th>1</th>\n",
       "      <td>SP Goswami</td>\n",
       "      <td>16.523810</td>\n",
       "    </tr>\n",
       "    <tr>\n",
       "      <th>2</th>\n",
       "      <td>M Ashwin</td>\n",
       "      <td>12.161290</td>\n",
       "    </tr>\n",
       "    <tr>\n",
       "      <th>3</th>\n",
       "      <td>Priyam Garg</td>\n",
       "      <td>0.000000</td>\n",
       "    </tr>\n",
       "    <tr>\n",
       "      <th>4</th>\n",
       "      <td>PP Ojha</td>\n",
       "      <td>24.833333</td>\n",
       "    </tr>\n",
       "  </tbody>\n",
       "</table>\n",
       "</div>"
      ],
      "text/plain": [
       "         Player        Avg\n",
       "0  BB Samantray  18.750000\n",
       "1    SP Goswami  16.523810\n",
       "2      M Ashwin  12.161290\n",
       "3   Priyam Garg   0.000000\n",
       "4       PP Ojha  24.833333"
      ]
     },
     "execution_count": 23,
     "metadata": {},
     "output_type": "execute_result"
    }
   ],
   "source": [
    "Avg_scores = all_added.groupby('Player')['Total Points'].mean().reset_index()\n",
    "Avg_scores.rename(columns = {'Total Points':'Avg'}, inplace = True) \n",
    "cd_Avg_scores = cd_all_added.groupby('Player')['Total Points'].mean().reset_index()\n",
    "cd_Avg_scores.rename(columns = {'Total Points':'Avg'}, inplace = True) \n",
    "cd_Avg_scores.head()"
   ]
  },
  {
   "cell_type": "code",
   "execution_count": 24,
   "id": "8dc44e2e",
   "metadata": {
    "execution": {
     "iopub.execute_input": "2022-07-30T17:22:33.915149Z",
     "iopub.status.busy": "2022-07-30T17:22:33.914895Z",
     "iopub.status.idle": "2022-07-30T17:22:33.950980Z",
     "shell.execute_reply": "2022-07-30T17:22:33.949246Z"
    },
    "papermill": {
     "duration": 0.05433,
     "end_time": "2022-07-30T17:22:33.952894",
     "exception": false,
     "start_time": "2022-07-30T17:22:33.898564",
     "status": "completed"
    },
    "tags": []
   },
   "outputs": [
    {
     "name": "stdout",
     "output_type": "stream",
     "text": [
      "(17199, 5)\n"
     ]
    },
    {
     "data": {
      "text/html": [
       "<div>\n",
       "<style scoped>\n",
       "    .dataframe tbody tr th:only-of-type {\n",
       "        vertical-align: middle;\n",
       "    }\n",
       "\n",
       "    .dataframe tbody tr th {\n",
       "        vertical-align: top;\n",
       "    }\n",
       "\n",
       "    .dataframe thead th {\n",
       "        text-align: right;\n",
       "    }\n",
       "</style>\n",
       "<table border=\"1\" class=\"dataframe\">\n",
       "  <thead>\n",
       "    <tr style=\"text-align: right;\">\n",
       "      <th></th>\n",
       "      <th>Player</th>\n",
       "      <th>Match_ID</th>\n",
       "      <th>team1</th>\n",
       "      <th>team2</th>\n",
       "      <th>Avg</th>\n",
       "    </tr>\n",
       "  </thead>\n",
       "  <tbody>\n",
       "    <tr>\n",
       "      <th>0</th>\n",
       "      <td>KV Sharma</td>\n",
       "      <td>580</td>\n",
       "      <td>RCB</td>\n",
       "      <td>SRH</td>\n",
       "      <td>26.597015</td>\n",
       "    </tr>\n",
       "    <tr>\n",
       "      <th>1</th>\n",
       "      <td>RA Jadeja</td>\n",
       "      <td>130</td>\n",
       "      <td>KXIP</td>\n",
       "      <td>RR</td>\n",
       "      <td>28.355932</td>\n",
       "    </tr>\n",
       "    <tr>\n",
       "      <th>2</th>\n",
       "      <td>AD Russell</td>\n",
       "      <td>581</td>\n",
       "      <td>KKR</td>\n",
       "      <td>MI</td>\n",
       "      <td>46.791667</td>\n",
       "    </tr>\n",
       "    <tr>\n",
       "      <th>3</th>\n",
       "      <td>KC Sangakkara</td>\n",
       "      <td>130</td>\n",
       "      <td>KXIP</td>\n",
       "      <td>RR</td>\n",
       "      <td>29.926471</td>\n",
       "    </tr>\n",
       "    <tr>\n",
       "      <th>4</th>\n",
       "      <td>JC Buttler</td>\n",
       "      <td>581</td>\n",
       "      <td>KKR</td>\n",
       "      <td>MI</td>\n",
       "      <td>32.052632</td>\n",
       "    </tr>\n",
       "  </tbody>\n",
       "</table>\n",
       "</div>"
      ],
      "text/plain": [
       "          Player  Match_ID team1 team2        Avg\n",
       "0      KV Sharma       580   RCB   SRH  26.597015\n",
       "1      RA Jadeja       130  KXIP    RR  28.355932\n",
       "2     AD Russell       581   KKR    MI  46.791667\n",
       "3  KC Sangakkara       130  KXIP    RR  29.926471\n",
       "4     JC Buttler       581   KKR    MI  32.052632"
      ]
     },
     "execution_count": 24,
     "metadata": {},
     "output_type": "execute_result"
    }
   ],
   "source": [
    "all_added1 = pd.merge(all_added[['Player','Match_ID','team1','team2']], Avg_scores[['Player','Avg']], on = 'Player', how='inner')\n",
    "cd_all_added1 = cd.merge(cd_all_added[['Player','Match_ID','team1','team2']], cd_Avg_scores[['Player','Avg']], on = 'Player', how='inner')\n",
    "print(cd_all_added1.shape)\n",
    "cd_all_added1.head()"
   ]
  },
  {
   "cell_type": "code",
   "execution_count": 25,
   "id": "4d4c6b95",
   "metadata": {
    "execution": {
     "iopub.execute_input": "2022-07-30T17:22:33.986056Z",
     "iopub.status.busy": "2022-07-30T17:22:33.985719Z",
     "iopub.status.idle": "2022-07-30T17:22:34.029926Z",
     "shell.execute_reply": "2022-07-30T17:22:34.028850Z"
    },
    "papermill": {
     "duration": 0.064044,
     "end_time": "2022-07-30T17:22:34.032373",
     "exception": false,
     "start_time": "2022-07-30T17:22:33.968329",
     "status": "completed"
    },
    "tags": []
   },
   "outputs": [
    {
     "name": "stdout",
     "output_type": "stream",
     "text": [
      "(17199, 5)\n"
     ]
    },
    {
     "data": {
      "text/html": [
       "<div>\n",
       "<style scoped>\n",
       "    .dataframe tbody tr th:only-of-type {\n",
       "        vertical-align: middle;\n",
       "    }\n",
       "\n",
       "    .dataframe tbody tr th {\n",
       "        vertical-align: top;\n",
       "    }\n",
       "\n",
       "    .dataframe thead th {\n",
       "        text-align: right;\n",
       "    }\n",
       "</style>\n",
       "<table border=\"1\" class=\"dataframe\">\n",
       "  <thead>\n",
       "    <tr style=\"text-align: right;\">\n",
       "      <th></th>\n",
       "      <th>Match_ID</th>\n",
       "      <th>Player</th>\n",
       "      <th>team1</th>\n",
       "      <th>team2</th>\n",
       "      <th>Avg</th>\n",
       "    </tr>\n",
       "  </thead>\n",
       "  <tbody>\n",
       "    <tr>\n",
       "      <th>0</th>\n",
       "      <td>357</td>\n",
       "      <td>SP Narine</td>\n",
       "      <td>DC</td>\n",
       "      <td>KKR</td>\n",
       "      <td>34.991667</td>\n",
       "    </tr>\n",
       "    <tr>\n",
       "      <th>1</th>\n",
       "      <td>545</td>\n",
       "      <td>Yuvraj Singh</td>\n",
       "      <td>KKR</td>\n",
       "      <td>DC</td>\n",
       "      <td>34.434109</td>\n",
       "    </tr>\n",
       "    <tr>\n",
       "      <th>2</th>\n",
       "      <td>358</td>\n",
       "      <td>M Kartik</td>\n",
       "      <td>RPS</td>\n",
       "      <td>RR</td>\n",
       "      <td>16.436364</td>\n",
       "    </tr>\n",
       "    <tr>\n",
       "      <th>3</th>\n",
       "      <td>545</td>\n",
       "      <td>UT Yadav</td>\n",
       "      <td>KKR</td>\n",
       "      <td>DC</td>\n",
       "      <td>26.308333</td>\n",
       "    </tr>\n",
       "    <tr>\n",
       "      <th>4</th>\n",
       "      <td>358</td>\n",
       "      <td>RV Uthappa</td>\n",
       "      <td>RPS</td>\n",
       "      <td>RR</td>\n",
       "      <td>30.373626</td>\n",
       "    </tr>\n",
       "  </tbody>\n",
       "</table>\n",
       "</div>"
      ],
      "text/plain": [
       "   Match_ID        Player team1 team2        Avg\n",
       "0       357     SP Narine    DC   KKR  34.991667\n",
       "1       545  Yuvraj Singh   KKR    DC  34.434109\n",
       "2       358      M Kartik   RPS    RR  16.436364\n",
       "3       545      UT Yadav   KKR    DC  26.308333\n",
       "4       358    RV Uthappa   RPS    RR  30.373626"
      ]
     },
     "execution_count": 25,
     "metadata": {},
     "output_type": "execute_result"
    }
   ],
   "source": [
    "final_final = pd.merge(all_added[['Match_ID','Player']],all_added1[['Player','Match_ID','team1','team2','Avg']], on = ['Match_ID','Player'], how='inner')\n",
    "cd_final_final = cd.merge(cd_all_added[['Match_ID','Player']],cd_all_added1[['Player','Match_ID','team1','team2','Avg']], on = ['Match_ID','Player'], how='inner')\n",
    "print(cd_final_final.shape)\n",
    "cd_final_final.head()"
   ]
  },
  {
   "cell_type": "code",
   "execution_count": 26,
   "id": "0844dd4f",
   "metadata": {
    "execution": {
     "iopub.execute_input": "2022-07-30T17:22:34.066344Z",
     "iopub.status.busy": "2022-07-30T17:22:34.065525Z",
     "iopub.status.idle": "2022-07-30T17:22:34.090682Z",
     "shell.execute_reply": "2022-07-30T17:22:34.089619Z"
    },
    "papermill": {
     "duration": 0.044969,
     "end_time": "2022-07-30T17:22:34.093321",
     "exception": false,
     "start_time": "2022-07-30T17:22:34.048352",
     "status": "completed"
    },
    "tags": []
   },
   "outputs": [
    {
     "data": {
      "text/html": [
       "<div>\n",
       "<style scoped>\n",
       "    .dataframe tbody tr th:only-of-type {\n",
       "        vertical-align: middle;\n",
       "    }\n",
       "\n",
       "    .dataframe tbody tr th {\n",
       "        vertical-align: top;\n",
       "    }\n",
       "\n",
       "    .dataframe thead th {\n",
       "        text-align: right;\n",
       "    }\n",
       "</style>\n",
       "<table border=\"1\" class=\"dataframe\">\n",
       "  <thead>\n",
       "    <tr style=\"text-align: right;\">\n",
       "      <th></th>\n",
       "      <th>Player</th>\n",
       "      <th>team1</th>\n",
       "      <th>team2</th>\n",
       "      <th>Avg</th>\n",
       "    </tr>\n",
       "  </thead>\n",
       "  <tbody>\n",
       "    <tr>\n",
       "      <th>0</th>\n",
       "      <td>SP Narine</td>\n",
       "      <td>DC</td>\n",
       "      <td>KKR</td>\n",
       "      <td>34.991667</td>\n",
       "    </tr>\n",
       "    <tr>\n",
       "      <th>1</th>\n",
       "      <td>Yuvraj Singh</td>\n",
       "      <td>KKR</td>\n",
       "      <td>DC</td>\n",
       "      <td>34.434109</td>\n",
       "    </tr>\n",
       "    <tr>\n",
       "      <th>2</th>\n",
       "      <td>M Kartik</td>\n",
       "      <td>RPS</td>\n",
       "      <td>RR</td>\n",
       "      <td>16.436364</td>\n",
       "    </tr>\n",
       "    <tr>\n",
       "      <th>3</th>\n",
       "      <td>UT Yadav</td>\n",
       "      <td>KKR</td>\n",
       "      <td>DC</td>\n",
       "      <td>26.308333</td>\n",
       "    </tr>\n",
       "    <tr>\n",
       "      <th>4</th>\n",
       "      <td>RV Uthappa</td>\n",
       "      <td>RPS</td>\n",
       "      <td>RR</td>\n",
       "      <td>30.373626</td>\n",
       "    </tr>\n",
       "  </tbody>\n",
       "</table>\n",
       "</div>"
      ],
      "text/plain": [
       "         Player team1 team2        Avg\n",
       "0     SP Narine    DC   KKR  34.991667\n",
       "1  Yuvraj Singh   KKR    DC  34.434109\n",
       "2      M Kartik   RPS    RR  16.436364\n",
       "3      UT Yadav   KKR    DC  26.308333\n",
       "4    RV Uthappa   RPS    RR  30.373626"
      ]
     },
     "execution_count": 26,
     "metadata": {},
     "output_type": "execute_result"
    }
   ],
   "source": [
    "X = final_final[['Player','team1','team2','Avg']]\n",
    "y = train['Total Points']\n",
    "cd_X = cd_final_final[['Player','team1','team2','Avg']]\n",
    "cd_y = cd_train['Total Points']\n",
    "cd_X.head()"
   ]
  },
  {
   "cell_type": "markdown",
   "id": "64a94f50",
   "metadata": {
    "papermill": {
     "duration": 0.015948,
     "end_time": "2022-07-30T17:22:34.125717",
     "exception": false,
     "start_time": "2022-07-30T17:22:34.109769",
     "status": "completed"
    },
    "tags": []
   },
   "source": [
    "Pre-Processing"
   ]
  },
  {
   "cell_type": "code",
   "execution_count": 27,
   "id": "dce140aa",
   "metadata": {
    "execution": {
     "iopub.execute_input": "2022-07-30T17:22:34.160659Z",
     "iopub.status.busy": "2022-07-30T17:22:34.160082Z",
     "iopub.status.idle": "2022-07-30T17:22:34.222529Z",
     "shell.execute_reply": "2022-07-30T17:22:34.221444Z"
    },
    "papermill": {
     "duration": 0.083099,
     "end_time": "2022-07-30T17:22:34.225042",
     "exception": false,
     "start_time": "2022-07-30T17:22:34.141943",
     "status": "completed"
    },
    "tags": []
   },
   "outputs": [
    {
     "data": {
      "text/html": [
       "<div>\n",
       "<style scoped>\n",
       "    .dataframe tbody tr th:only-of-type {\n",
       "        vertical-align: middle;\n",
       "    }\n",
       "\n",
       "    .dataframe tbody tr th {\n",
       "        vertical-align: top;\n",
       "    }\n",
       "\n",
       "    .dataframe thead th {\n",
       "        text-align: right;\n",
       "    }\n",
       "</style>\n",
       "<table border=\"1\" class=\"dataframe\">\n",
       "  <thead>\n",
       "    <tr style=\"text-align: right;\">\n",
       "      <th></th>\n",
       "      <th>Player</th>\n",
       "      <th>team1</th>\n",
       "      <th>team2</th>\n",
       "    </tr>\n",
       "  </thead>\n",
       "  <tbody>\n",
       "    <tr>\n",
       "      <th>0</th>\n",
       "      <td>SP Narine</td>\n",
       "      <td>DC</td>\n",
       "      <td>KKR</td>\n",
       "    </tr>\n",
       "    <tr>\n",
       "      <th>1</th>\n",
       "      <td>Yuvraj Singh</td>\n",
       "      <td>KKR</td>\n",
       "      <td>DC</td>\n",
       "    </tr>\n",
       "    <tr>\n",
       "      <th>2</th>\n",
       "      <td>M Kartik</td>\n",
       "      <td>RPS</td>\n",
       "      <td>RR</td>\n",
       "    </tr>\n",
       "    <tr>\n",
       "      <th>3</th>\n",
       "      <td>UT Yadav</td>\n",
       "      <td>KKR</td>\n",
       "      <td>DC</td>\n",
       "    </tr>\n",
       "    <tr>\n",
       "      <th>4</th>\n",
       "      <td>RV Uthappa</td>\n",
       "      <td>RPS</td>\n",
       "      <td>RR</td>\n",
       "    </tr>\n",
       "    <tr>\n",
       "      <th>...</th>\n",
       "      <td>...</td>\n",
       "      <td>...</td>\n",
       "      <td>...</td>\n",
       "    </tr>\n",
       "    <tr>\n",
       "      <th>17194</th>\n",
       "      <td>N Rana</td>\n",
       "      <td>DC</td>\n",
       "      <td>KKR</td>\n",
       "    </tr>\n",
       "    <tr>\n",
       "      <th>17195</th>\n",
       "      <td>J Bairstow</td>\n",
       "      <td>KXIP</td>\n",
       "      <td>SRH</td>\n",
       "    </tr>\n",
       "    <tr>\n",
       "      <th>17196</th>\n",
       "      <td>JD Unadkat</td>\n",
       "      <td>RCB</td>\n",
       "      <td>RR</td>\n",
       "    </tr>\n",
       "    <tr>\n",
       "      <th>17197</th>\n",
       "      <td>J Archer</td>\n",
       "      <td>RCB</td>\n",
       "      <td>RR</td>\n",
       "    </tr>\n",
       "    <tr>\n",
       "      <th>17198</th>\n",
       "      <td>N Saini</td>\n",
       "      <td>RCB</td>\n",
       "      <td>RR</td>\n",
       "    </tr>\n",
       "  </tbody>\n",
       "</table>\n",
       "<p>17199 rows × 3 columns</p>\n",
       "</div>"
      ],
      "text/plain": [
       "             Player team1 team2\n",
       "0         SP Narine    DC   KKR\n",
       "1      Yuvraj Singh   KKR    DC\n",
       "2          M Kartik   RPS    RR\n",
       "3          UT Yadav   KKR    DC\n",
       "4        RV Uthappa   RPS    RR\n",
       "...             ...   ...   ...\n",
       "17194        N Rana    DC   KKR\n",
       "17195    J Bairstow  KXIP   SRH\n",
       "17196    JD Unadkat   RCB    RR\n",
       "17197      J Archer   RCB    RR\n",
       "17198       N Saini   RCB    RR\n",
       "\n",
       "[17199 rows x 3 columns]"
      ]
     },
     "execution_count": 27,
     "metadata": {},
     "output_type": "execute_result"
    }
   ],
   "source": [
    "label=X.select_dtypes(include='object')\n",
    "cd_label=cd_X.select_dtypes(include='object')\n",
    "cd_label"
   ]
  },
  {
   "cell_type": "code",
   "execution_count": 28,
   "id": "d59a92dd",
   "metadata": {
    "execution": {
     "iopub.execute_input": "2022-07-30T17:22:34.260240Z",
     "iopub.status.busy": "2022-07-30T17:22:34.259348Z",
     "iopub.status.idle": "2022-07-30T17:22:34.291283Z",
     "shell.execute_reply": "2022-07-30T17:22:34.290132Z"
    },
    "papermill": {
     "duration": 0.052102,
     "end_time": "2022-07-30T17:22:34.293755",
     "exception": false,
     "start_time": "2022-07-30T17:22:34.241653",
     "status": "completed"
    },
    "tags": []
   },
   "outputs": [],
   "source": [
    "labelencoder = LabelEncoder()\n",
    "cd_label['Player']=labelencoder.fit_transform(cd_label['Player'])\n",
    "cd_label['team1']=labelencoder.fit_transform(cd_label['team1'])\n",
    "cd_label['team2']=labelencoder.fit_transform(cd_label['team2'])\n",
    "cd_label['Avg']=cd_X['Avg']"
   ]
  },
  {
   "cell_type": "code",
   "execution_count": 29,
   "id": "6a7eefac",
   "metadata": {
    "execution": {
     "iopub.execute_input": "2022-07-30T17:22:34.328923Z",
     "iopub.status.busy": "2022-07-30T17:22:34.328329Z",
     "iopub.status.idle": "2022-07-30T17:22:34.335456Z",
     "shell.execute_reply": "2022-07-30T17:22:34.334485Z"
    },
    "papermill": {
     "duration": 0.027034,
     "end_time": "2022-07-30T17:22:34.337640",
     "exception": false,
     "start_time": "2022-07-30T17:22:34.310606",
     "status": "completed"
    },
    "tags": []
   },
   "outputs": [],
   "source": [
    "train_enc = cd_label[:15916]\n",
    "sub_enc = cd_label[15916:]"
   ]
  },
  {
   "cell_type": "code",
   "execution_count": 30,
   "id": "656a8dc1",
   "metadata": {
    "execution": {
     "iopub.execute_input": "2022-07-30T17:22:34.372379Z",
     "iopub.status.busy": "2022-07-30T17:22:34.371426Z",
     "iopub.status.idle": "2022-07-30T17:22:34.378479Z",
     "shell.execute_reply": "2022-07-30T17:22:34.377546Z"
    },
    "papermill": {
     "duration": 0.026289,
     "end_time": "2022-07-30T17:22:34.380437",
     "exception": false,
     "start_time": "2022-07-30T17:22:34.354148",
     "status": "completed"
    },
    "tags": []
   },
   "outputs": [
    {
     "data": {
      "text/plain": [
       "((15916, 4), (1283, 4), (15916,))"
      ]
     },
     "execution_count": 30,
     "metadata": {},
     "output_type": "execute_result"
    }
   ],
   "source": [
    "train_enc.shape,sub_enc.shape,cd_y.shape"
   ]
  },
  {
   "cell_type": "code",
   "execution_count": 31,
   "id": "aae88389",
   "metadata": {
    "execution": {
     "iopub.execute_input": "2022-07-30T17:22:34.416261Z",
     "iopub.status.busy": "2022-07-30T17:22:34.415338Z",
     "iopub.status.idle": "2022-07-30T17:22:36.379467Z",
     "shell.execute_reply": "2022-07-30T17:22:36.378465Z"
    },
    "papermill": {
     "duration": 1.984026,
     "end_time": "2022-07-30T17:22:36.381787",
     "exception": false,
     "start_time": "2022-07-30T17:22:34.397761",
     "status": "completed"
    },
    "tags": []
   },
   "outputs": [],
   "source": [
    "# Standard scaling\n",
    "for col in train_enc.columns:\n",
    "    a = train_enc[col].mean()\n",
    "    b = train_enc[col].std()\n",
    "    train_enc[col]=train_enc[col].applymap(lambda x: ((x-a)/b))\n",
    "train_enc = train_enc.astype('float32')\n",
    "\n",
    "for col in sub_enc.columns:\n",
    "    a = sub_enc[col].mean()\n",
    "    b = sub_enc[col].std()\n",
    "    sub_enc[col] = sub_enc[col].applymap(lambda x: ((x-a)/b))\n",
    "sub_enc = sub_enc.astype('float32')"
   ]
  },
  {
   "cell_type": "code",
   "execution_count": 32,
   "id": "ce49c3a2",
   "metadata": {
    "execution": {
     "iopub.execute_input": "2022-07-30T17:22:36.417096Z",
     "iopub.status.busy": "2022-07-30T17:22:36.416792Z",
     "iopub.status.idle": "2022-07-30T17:22:36.421148Z",
     "shell.execute_reply": "2022-07-30T17:22:36.420226Z"
    },
    "papermill": {
     "duration": 0.024599,
     "end_time": "2022-07-30T17:22:36.423337",
     "exception": false,
     "start_time": "2022-07-30T17:22:36.398738",
     "status": "completed"
    },
    "tags": []
   },
   "outputs": [],
   "source": [
    "import scipy.stats as stats"
   ]
  },
  {
   "cell_type": "code",
   "execution_count": 33,
   "id": "dd46ab65",
   "metadata": {
    "execution": {
     "iopub.execute_input": "2022-07-30T17:22:36.457919Z",
     "iopub.status.busy": "2022-07-30T17:22:36.457580Z",
     "iopub.status.idle": "2022-07-30T17:22:36.888703Z",
     "shell.execute_reply": "2022-07-30T17:22:36.887632Z"
    },
    "papermill": {
     "duration": 0.451487,
     "end_time": "2022-07-30T17:22:36.891642",
     "exception": false,
     "start_time": "2022-07-30T17:22:36.440155",
     "status": "completed"
    },
    "tags": []
   },
   "outputs": [
    {
     "name": "stdout",
     "output_type": "stream",
     "text": [
      "0.21625361645154428\n"
     ]
    },
    {
     "data": {
      "text/plain": [
       "<AxesSubplot:ylabel='Density'>"
      ]
     },
     "execution_count": 33,
     "metadata": {},
     "output_type": "execute_result"
    },
    {
     "data": {
      "image/png": "[encoded data removed]",
      "text/plain": [
       "<Figure size 432x288 with 1 Axes>"
      ]
     },
     "metadata": {
      "needs_background": "light"
     },
     "output_type": "display_data"
    }
   ],
   "source": [
    "minimum = cd_y.min().copy()\n",
    "yy = (cd_y.values.get()-minimum)**(1/2)\n",
    "print(pd.Series(yy).skew())\n",
    "sns.kdeplot(yy)"
   ]
  },
  {
   "cell_type": "code",
   "execution_count": 34,
   "id": "d34b814f",
   "metadata": {
    "execution": {
     "iopub.execute_input": "2022-07-30T17:22:36.952853Z",
     "iopub.status.busy": "2022-07-30T17:22:36.952290Z",
     "iopub.status.idle": "2022-07-30T17:22:39.457281Z",
     "shell.execute_reply": "2022-07-30T17:22:39.456328Z"
    },
    "papermill": {
     "duration": 2.538607,
     "end_time": "2022-07-30T17:22:39.459499",
     "exception": false,
     "start_time": "2022-07-30T17:22:36.920892",
     "status": "completed"
    },
    "tags": []
   },
   "outputs": [
    {
     "data": {
      "text/plain": [
       "<AxesSubplot:ylabel='count'>"
      ]
     },
     "execution_count": 34,
     "metadata": {},
     "output_type": "execute_result"
    },
    {
     "data": {
      "image/png": "[encoded data removed]",
      "text/plain": [
       "<Figure size 432x288 with 1 Axes>"
      ]
     },
     "metadata": {
      "needs_background": "light"
     },
     "output_type": "display_data"
    }
   ],
   "source": [
    "sns.countplot(yy)\n"
   ]
  },
  {
   "cell_type": "code",
   "execution_count": 35,
   "id": "7d57e494",
   "metadata": {
    "execution": {
     "iopub.execute_input": "2022-07-30T17:22:39.495986Z",
     "iopub.status.busy": "2022-07-30T17:22:39.495111Z",
     "iopub.status.idle": "2022-07-30T17:22:40.888339Z",
     "shell.execute_reply": "2022-07-30T17:22:40.887316Z"
    },
    "papermill": {
     "duration": 1.413915,
     "end_time": "2022-07-30T17:22:40.890824",
     "exception": false,
     "start_time": "2022-07-30T17:22:39.476909",
     "status": "completed"
    },
    "tags": []
   },
   "outputs": [],
   "source": [
    "X_train, X_test, y_train, y_test = train_test_split(train_enc, cp.array(yy), test_size=0.2, random_state=25)"
   ]
  },
  {
   "cell_type": "code",
   "execution_count": 36,
   "id": "e6b7745c",
   "metadata": {
    "execution": {
     "iopub.execute_input": "2022-07-30T17:22:40.928178Z",
     "iopub.status.busy": "2022-07-30T17:22:40.927822Z",
     "iopub.status.idle": "2022-07-30T17:22:40.934528Z",
     "shell.execute_reply": "2022-07-30T17:22:40.933482Z"
    },
    "papermill": {
     "duration": 0.028728,
     "end_time": "2022-07-30T17:22:40.937172",
     "exception": false,
     "start_time": "2022-07-30T17:22:40.908444",
     "status": "completed"
    },
    "tags": []
   },
   "outputs": [
    {
     "data": {
      "text/plain": [
       "((12733, 4), (3183, 4), (12733,), (3183,))"
      ]
     },
     "execution_count": 36,
     "metadata": {},
     "output_type": "execute_result"
    }
   ],
   "source": [
    "X_train.shape, X_test.shape, y_train.shape, y_test.shape"
   ]
  },
  {
   "cell_type": "code",
   "execution_count": 37,
   "id": "19a4b83d",
   "metadata": {
    "execution": {
     "iopub.execute_input": "2022-07-30T17:22:40.974008Z",
     "iopub.status.busy": "2022-07-30T17:22:40.973401Z",
     "iopub.status.idle": "2022-07-30T17:22:41.028063Z",
     "shell.execute_reply": "2022-07-30T17:22:41.026936Z"
    },
    "papermill": {
     "duration": 0.07692,
     "end_time": "2022-07-30T17:22:41.031637",
     "exception": false,
     "start_time": "2022-07-30T17:22:40.954717",
     "status": "completed"
    },
    "tags": []
   },
   "outputs": [
    {
     "data": {
      "text/html": [
       "<div>\n",
       "<style scoped>\n",
       "    .dataframe tbody tr th:only-of-type {\n",
       "        vertical-align: middle;\n",
       "    }\n",
       "\n",
       "    .dataframe tbody tr th {\n",
       "        vertical-align: top;\n",
       "    }\n",
       "\n",
       "    .dataframe thead th {\n",
       "        text-align: right;\n",
       "    }\n",
       "</style>\n",
       "<table border=\"1\" class=\"dataframe\">\n",
       "  <thead>\n",
       "    <tr style=\"text-align: right;\">\n",
       "      <th></th>\n",
       "      <th>Player</th>\n",
       "      <th>team1</th>\n",
       "      <th>team2</th>\n",
       "      <th>Avg</th>\n",
       "    </tr>\n",
       "  </thead>\n",
       "  <tbody>\n",
       "    <tr>\n",
       "      <th>12159</th>\n",
       "      <td>0.804730</td>\n",
       "      <td>-0.663455</td>\n",
       "      <td>0.232004</td>\n",
       "      <td>0.268577</td>\n",
       "    </tr>\n",
       "    <tr>\n",
       "      <th>6187</th>\n",
       "      <td>0.321396</td>\n",
       "      <td>1.127463</td>\n",
       "      <td>-0.663455</td>\n",
       "      <td>-0.810730</td>\n",
       "    </tr>\n",
       "    <tr>\n",
       "      <th>14579</th>\n",
       "      <td>0.551274</td>\n",
       "      <td>0.530490</td>\n",
       "      <td>-1.558914</td>\n",
       "      <td>-0.458775</td>\n",
       "    </tr>\n",
       "    <tr>\n",
       "      <th>1899</th>\n",
       "      <td>-1.122711</td>\n",
       "      <td>1.425949</td>\n",
       "      <td>-0.066482</td>\n",
       "      <td>-0.079481</td>\n",
       "    </tr>\n",
       "    <tr>\n",
       "      <th>11246</th>\n",
       "      <td>0.179933</td>\n",
       "      <td>-1.558914</td>\n",
       "      <td>-0.066482</td>\n",
       "      <td>-0.824039</td>\n",
       "    </tr>\n",
       "    <tr>\n",
       "      <th>...</th>\n",
       "      <td>...</td>\n",
       "      <td>...</td>\n",
       "      <td>...</td>\n",
       "      <td>...</td>\n",
       "    </tr>\n",
       "    <tr>\n",
       "      <th>11171</th>\n",
       "      <td>0.156355</td>\n",
       "      <td>-1.558914</td>\n",
       "      <td>-0.663455</td>\n",
       "      <td>0.296078</td>\n",
       "    </tr>\n",
       "    <tr>\n",
       "      <th>11704</th>\n",
       "      <td>1.547413</td>\n",
       "      <td>-1.558914</td>\n",
       "      <td>-1.260428</td>\n",
       "      <td>-0.867240</td>\n",
       "    </tr>\n",
       "    <tr>\n",
       "      <th>12415</th>\n",
       "      <td>1.671194</td>\n",
       "      <td>-1.558914</td>\n",
       "      <td>-0.663455</td>\n",
       "      <td>0.428879</td>\n",
       "    </tr>\n",
       "    <tr>\n",
       "      <th>7967</th>\n",
       "      <td>0.934405</td>\n",
       "      <td>0.828977</td>\n",
       "      <td>-1.260428</td>\n",
       "      <td>-1.382633</td>\n",
       "    </tr>\n",
       "    <tr>\n",
       "      <th>10204</th>\n",
       "      <td>1.618145</td>\n",
       "      <td>-0.066482</td>\n",
       "      <td>-0.961941</td>\n",
       "      <td>-0.665066</td>\n",
       "    </tr>\n",
       "  </tbody>\n",
       "</table>\n",
       "<p>12733 rows × 4 columns</p>\n",
       "</div>"
      ],
      "text/plain": [
       "         Player     team1     team2       Avg\n",
       "12159  0.804730 -0.663455  0.232004  0.268577\n",
       "6187   0.321396  1.127463 -0.663455 -0.810730\n",
       "14579  0.551274  0.530490 -1.558914 -0.458775\n",
       "1899  -1.122711  1.425949 -0.066482 -0.079481\n",
       "11246  0.179933 -1.558914 -0.066482 -0.824039\n",
       "...         ...       ...       ...       ...\n",
       "11171  0.156355 -1.558914 -0.663455  0.296078\n",
       "11704  1.547413 -1.558914 -1.260428 -0.867240\n",
       "12415  1.671194 -1.558914 -0.663455  0.428879\n",
       "7967   0.934405  0.828977 -1.260428 -1.382633\n",
       "10204  1.618145 -0.066482 -0.961941 -0.665066\n",
       "\n",
       "[12733 rows x 4 columns]"
      ]
     },
     "execution_count": 37,
     "metadata": {},
     "output_type": "execute_result"
    }
   ],
   "source": [
    "X_train"
   ]
  },
  {
   "cell_type": "code",
   "execution_count": 38,
   "id": "5a829e5c",
   "metadata": {
    "execution": {
     "iopub.execute_input": "2022-07-30T17:22:41.069090Z",
     "iopub.status.busy": "2022-07-30T17:22:41.068427Z",
     "iopub.status.idle": "2022-07-30T17:22:41.295367Z",
     "shell.execute_reply": "2022-07-30T17:22:41.294402Z"
    },
    "papermill": {
     "duration": 0.24817,
     "end_time": "2022-07-30T17:22:41.297830",
     "exception": false,
     "start_time": "2022-07-30T17:22:41.049660",
     "status": "completed"
    },
    "tags": []
   },
   "outputs": [],
   "source": [
    "y_train = y_train.astype('float32')\n",
    "y_test = y_test.astype('float32')"
   ]
  },
  {
   "cell_type": "markdown",
   "id": "7d1330ee",
   "metadata": {
    "papermill": {
     "duration": 0.018024,
     "end_time": "2022-07-30T17:22:41.334128",
     "exception": false,
     "start_time": "2022-07-30T17:22:41.316104",
     "status": "completed"
    },
    "tags": []
   },
   "source": [
    "Model Fitting"
   ]
  },
  {
   "cell_type": "code",
   "execution_count": 39,
   "id": "773207ed",
   "metadata": {
    "execution": {
     "iopub.execute_input": "2022-07-30T17:22:41.371848Z",
     "iopub.status.busy": "2022-07-30T17:22:41.371501Z",
     "iopub.status.idle": "2022-07-30T17:22:43.576739Z",
     "shell.execute_reply": "2022-07-30T17:22:43.575725Z"
    },
    "papermill": {
     "duration": 2.22693,
     "end_time": "2022-07-30T17:22:43.579171",
     "exception": false,
     "start_time": "2022-07-30T17:22:41.352241",
     "status": "completed"
    },
    "tags": []
   },
   "outputs": [
    {
     "data": {
      "text/plain": [
       "(-0.00012028217315673828, -0.00012028217315673828, 0.08011309802532196)"
      ]
     },
     "execution_count": 39,
     "metadata": {},
     "output_type": "execute_result"
    }
   ],
   "source": [
    "reg = ElasticNet(alpha=0.5)\n",
    "reg.fit(X_train,y_train)\n",
    "\n",
    "reg.score(X_test,y_test),r2_score(y_test,reg.predict(X_test)),accuracy_score(y_test,(reg.predict(X_test)))"
   ]
  },
  {
   "cell_type": "code",
   "execution_count": 40,
   "id": "bb92e8e0",
   "metadata": {
    "execution": {
     "iopub.execute_input": "2022-07-30T17:22:43.616646Z",
     "iopub.status.busy": "2022-07-30T17:22:43.616107Z",
     "iopub.status.idle": "2022-07-30T17:22:43.862353Z",
     "shell.execute_reply": "2022-07-30T17:22:43.861323Z"
    },
    "papermill": {
     "duration": 0.267614,
     "end_time": "2022-07-30T17:22:43.864929",
     "exception": false,
     "start_time": "2022-07-30T17:22:43.597315",
     "status": "completed"
    },
    "tags": []
   },
   "outputs": [],
   "source": [
    "y_pred=cp.round(reg.predict(X_test))"
   ]
  },
  {
   "cell_type": "markdown",
   "id": "ac1b4713",
   "metadata": {
    "papermill": {
     "duration": 0.018346,
     "end_time": "2022-07-30T17:22:43.901968",
     "exception": false,
     "start_time": "2022-07-30T17:22:43.883622",
     "status": "completed"
    },
    "tags": []
   },
   "source": [
    "Using XG Boost"
   ]
  },
  {
   "cell_type": "code",
   "execution_count": 41,
   "id": "1c5bbb56",
   "metadata": {
    "execution": {
     "iopub.execute_input": "2022-07-30T17:22:43.939769Z",
     "iopub.status.busy": "2022-07-30T17:22:43.938978Z",
     "iopub.status.idle": "2022-07-30T17:22:43.944183Z",
     "shell.execute_reply": "2022-07-30T17:22:43.943279Z"
    },
    "papermill": {
     "duration": 0.02656,
     "end_time": "2022-07-30T17:22:43.946115",
     "exception": false,
     "start_time": "2022-07-30T17:22:43.919555",
     "status": "completed"
    },
    "tags": []
   },
   "outputs": [],
   "source": [
    "xgb_reg = xgb.XGBRegressor(max_depth=3, n_estimators=250, learning_rate=0.01,\n",
    "                            n_jobs=-1,random_state=2519,subsample=0.8)"
   ]
  },
  {
   "cell_type": "code",
   "execution_count": 42,
   "id": "f85a23c0",
   "metadata": {
    "execution": {
     "iopub.execute_input": "2022-07-30T17:22:43.983704Z",
     "iopub.status.busy": "2022-07-30T17:22:43.982818Z",
     "iopub.status.idle": "2022-07-30T17:22:45.120616Z",
     "shell.execute_reply": "2022-07-30T17:22:45.119729Z"
    },
    "papermill": {
     "duration": 1.158772,
     "end_time": "2022-07-30T17:22:45.122857",
     "exception": false,
     "start_time": "2022-07-30T17:22:43.964085",
     "status": "completed"
    },
    "tags": []
   },
   "outputs": [
    {
     "data": {
      "text/plain": [
       "XGBRegressor(base_score=0.5, booster='gbtree', callbacks=None,\n",
       "             colsample_bylevel=1, colsample_bynode=1, colsample_bytree=1,\n",
       "             early_stopping_rounds=None, enable_categorical=False,\n",
       "             eval_metric=None, gamma=0, gpu_id=-1, grow_policy='depthwise',\n",
       "             importance_type=None, interaction_constraints='',\n",
       "             learning_rate=0.01, max_bin=256, max_cat_to_onehot=4,\n",
       "             max_delta_step=0, max_depth=3, max_leaves=0, min_child_weight=1,\n",
       "             missing=nan, monotone_constraints='()', n_estimators=250,\n",
       "             n_jobs=-1, num_parallel_tree=1, predictor='auto',\n",
       "             random_state=2519, reg_alpha=0, reg_lambda=1, ...)"
      ]
     },
     "execution_count": 42,
     "metadata": {},
     "output_type": "execute_result"
    }
   ],
   "source": [
    "xgb_reg.fit(X_train, y_train)"
   ]
  },
  {
   "cell_type": "code",
   "execution_count": 43,
   "id": "7922ac7c",
   "metadata": {
    "execution": {
     "iopub.execute_input": "2022-07-30T17:22:45.162561Z",
     "iopub.status.busy": "2022-07-30T17:22:45.161886Z",
     "iopub.status.idle": "2022-07-30T17:22:46.806087Z",
     "shell.execute_reply": "2022-07-30T17:22:46.805112Z"
    },
    "papermill": {
     "duration": 1.666153,
     "end_time": "2022-07-30T17:22:46.808330",
     "exception": false,
     "start_time": "2022-07-30T17:22:45.142177",
     "status": "completed"
    },
    "tags": []
   },
   "outputs": [
    {
     "data": {
      "text/plain": [
       "(-0.022165656089782715, 0.08011309802532196, array(3.7608202, dtype=float32))"
      ]
     },
     "execution_count": 43,
     "metadata": {},
     "output_type": "execute_result"
    }
   ],
   "source": [
    "r2_score(y_test,xgb_reg.predict(X_test)),accuracy_score(y_test,xgb_reg.predict(X_test)),(mean_squared_error(y_test,xgb_reg.predict(X_test)))**1/2"
   ]
  },
  {
   "cell_type": "code",
   "execution_count": 44,
   "id": "542eac78",
   "metadata": {
    "execution": {
     "iopub.execute_input": "2022-07-30T17:22:46.847140Z",
     "iopub.status.busy": "2022-07-30T17:22:46.846227Z",
     "iopub.status.idle": "2022-07-30T17:22:46.852027Z",
     "shell.execute_reply": "2022-07-30T17:22:46.851081Z"
    },
    "papermill": {
     "duration": 0.027209,
     "end_time": "2022-07-30T17:22:46.853956",
     "exception": false,
     "start_time": "2022-07-30T17:22:46.826747",
     "status": "completed"
    },
    "tags": []
   },
   "outputs": [],
   "source": [
    "params = {\n",
    "   \n",
    "    'max_depth': 3,\n",
    "    'subsample': 0.8,\n",
    "    'colsample_bytree': 0.9, \n",
    "    'objective':'reg:squarederror',\n",
    "    'eval_metric':'rmse',\n",
    "    'learning_rate': 0.01\n",
    "}"
   ]
  },
  {
   "cell_type": "code",
   "execution_count": 45,
   "id": "f8027a89",
   "metadata": {
    "execution": {
     "iopub.execute_input": "2022-07-30T17:22:46.891260Z",
     "iopub.status.busy": "2022-07-30T17:22:46.890934Z",
     "iopub.status.idle": "2022-07-30T17:22:49.601713Z",
     "shell.execute_reply": "2022-07-30T17:22:49.600994Z"
    },
    "papermill": {
     "duration": 2.73192,
     "end_time": "2022-07-30T17:22:49.603675",
     "exception": false,
     "start_time": "2022-07-30T17:22:46.871755",
     "status": "completed"
    },
    "tags": []
   },
   "outputs": [
    {
     "name": "stdout",
     "output_type": "stream",
     "text": [
      "[0]\ttest-rmse:5.20658\n",
      "[1]\ttest-rmse:5.16897\n",
      "[2]\ttest-rmse:5.13194\n",
      "[3]\ttest-rmse:5.09527\n",
      "[4]\ttest-rmse:5.05903\n",
      "[5]\ttest-rmse:5.02339\n",
      "[6]\ttest-rmse:4.98794\n",
      "[7]\ttest-rmse:4.95328\n",
      "[8]\ttest-rmse:4.91889\n",
      "[9]\ttest-rmse:4.88503\n",
      "[10]\ttest-rmse:4.85150\n",
      "[11]\ttest-rmse:4.81835\n",
      "[12]\ttest-rmse:4.78578\n",
      "[13]\ttest-rmse:4.75368\n",
      "[14]\ttest-rmse:4.72195\n",
      "[15]\ttest-rmse:4.69074\n",
      "[16]\ttest-rmse:4.65966\n",
      "[17]\ttest-rmse:4.62901\n",
      "[18]\ttest-rmse:4.59892\n",
      "[19]\ttest-rmse:4.56922\n",
      "[20]\ttest-rmse:4.53997\n",
      "[21]\ttest-rmse:4.51108\n",
      "[22]\ttest-rmse:4.48240\n",
      "[23]\ttest-rmse:4.45429\n",
      "[24]\ttest-rmse:4.42663\n",
      "[25]\ttest-rmse:4.39921\n",
      "[26]\ttest-rmse:4.37227\n",
      "[27]\ttest-rmse:4.34569\n",
      "[28]\ttest-rmse:4.31931\n",
      "[29]\ttest-rmse:4.29336\n",
      "[30]\ttest-rmse:4.26783\n",
      "[31]\ttest-rmse:4.24268\n",
      "[32]\ttest-rmse:4.21794\n",
      "[33]\ttest-rmse:4.19341\n",
      "[34]\ttest-rmse:4.16933\n",
      "[35]\ttest-rmse:4.14565\n",
      "[36]\ttest-rmse:4.12214\n",
      "[37]\ttest-rmse:4.09906\n",
      "[38]\ttest-rmse:4.07637\n",
      "[39]\ttest-rmse:4.05393\n",
      "[40]\ttest-rmse:4.03181\n",
      "[41]\ttest-rmse:4.00987\n",
      "[42]\ttest-rmse:3.98825\n",
      "[43]\ttest-rmse:3.96710\n",
      "[44]\ttest-rmse:3.94606\n",
      "[45]\ttest-rmse:3.92566\n",
      "[46]\ttest-rmse:3.90533\n",
      "[47]\ttest-rmse:3.88534\n",
      "[48]\ttest-rmse:3.86595\n",
      "[49]\ttest-rmse:3.84653\n",
      "[50]\ttest-rmse:3.82732\n",
      "[51]\ttest-rmse:3.80856\n",
      "[52]\ttest-rmse:3.79011\n",
      "[53]\ttest-rmse:3.77192\n",
      "[54]\ttest-rmse:3.75396\n",
      "[55]\ttest-rmse:3.73647\n",
      "[56]\ttest-rmse:3.71916\n",
      "[57]\ttest-rmse:3.70203\n",
      "[58]\ttest-rmse:3.68503\n",
      "[59]\ttest-rmse:3.66844\n",
      "[60]\ttest-rmse:3.65206\n",
      "[61]\ttest-rmse:3.63593\n",
      "[62]\ttest-rmse:3.62012\n",
      "[63]\ttest-rmse:3.60441\n",
      "[64]\ttest-rmse:3.58905\n",
      "[65]\ttest-rmse:3.57398\n",
      "[66]\ttest-rmse:3.55908\n",
      "[67]\ttest-rmse:3.54450\n",
      "[68]\ttest-rmse:3.53019\n",
      "[69]\ttest-rmse:3.51606\n",
      "[70]\ttest-rmse:3.50209\n",
      "[71]\ttest-rmse:3.48836\n",
      "[72]\ttest-rmse:3.47476\n",
      "[73]\ttest-rmse:3.46143\n",
      "[74]\ttest-rmse:3.44825\n",
      "[75]\ttest-rmse:3.43533\n",
      "[76]\ttest-rmse:3.42260\n",
      "[77]\ttest-rmse:3.41012\n",
      "[78]\ttest-rmse:3.39786\n",
      "[79]\ttest-rmse:3.38580\n",
      "[80]\ttest-rmse:3.37391\n",
      "[81]\ttest-rmse:3.36222\n",
      "[82]\ttest-rmse:3.35072\n",
      "[83]\ttest-rmse:3.33939\n",
      "[84]\ttest-rmse:3.32813\n",
      "[85]\ttest-rmse:3.31724\n",
      "[86]\ttest-rmse:3.30654\n",
      "[87]\ttest-rmse:3.29586\n",
      "[88]\ttest-rmse:3.28542\n",
      "[89]\ttest-rmse:3.27495\n",
      "[90]\ttest-rmse:3.26501\n",
      "[91]\ttest-rmse:3.25508\n",
      "[92]\ttest-rmse:3.24540\n",
      "[93]\ttest-rmse:3.23586\n",
      "[94]\ttest-rmse:3.22637\n",
      "[95]\ttest-rmse:3.21710\n",
      "[96]\ttest-rmse:3.20817\n",
      "[97]\ttest-rmse:3.19937\n",
      "[98]\ttest-rmse:3.19067\n",
      "[99]\ttest-rmse:3.18201\n",
      "[100]\ttest-rmse:3.17358\n",
      "[101]\ttest-rmse:3.16526\n",
      "[102]\ttest-rmse:3.15704\n",
      "[103]\ttest-rmse:3.14897\n",
      "[104]\ttest-rmse:3.14110\n",
      "[105]\ttest-rmse:3.13343\n",
      "[106]\ttest-rmse:3.12578\n",
      "[107]\ttest-rmse:3.11831\n",
      "[108]\ttest-rmse:3.11096\n",
      "[109]\ttest-rmse:3.10382\n",
      "[110]\ttest-rmse:3.09673\n",
      "[111]\ttest-rmse:3.08972\n",
      "[112]\ttest-rmse:3.08287\n",
      "[113]\ttest-rmse:3.07614\n",
      "[114]\ttest-rmse:3.06955\n",
      "[115]\ttest-rmse:3.06306\n",
      "[116]\ttest-rmse:3.05662\n",
      "[117]\ttest-rmse:3.05030\n",
      "[118]\ttest-rmse:3.04420\n",
      "[119]\ttest-rmse:3.03807\n",
      "[120]\ttest-rmse:3.03216\n",
      "[121]\ttest-rmse:3.02623\n",
      "[122]\ttest-rmse:3.02042\n",
      "[123]\ttest-rmse:3.01476\n",
      "[124]\ttest-rmse:3.00910\n",
      "[125]\ttest-rmse:3.00360\n",
      "[126]\ttest-rmse:2.99824\n",
      "[127]\ttest-rmse:2.99298\n",
      "[128]\ttest-rmse:2.98779\n",
      "[129]\ttest-rmse:2.98273\n",
      "[130]\ttest-rmse:2.97772\n",
      "[131]\ttest-rmse:2.97278\n",
      "[132]\ttest-rmse:2.96796\n",
      "[133]\ttest-rmse:2.96324\n",
      "[134]\ttest-rmse:2.95850\n",
      "[135]\ttest-rmse:2.95400\n",
      "[136]\ttest-rmse:2.94948\n",
      "[137]\ttest-rmse:2.94504\n",
      "[138]\ttest-rmse:2.94078\n",
      "[139]\ttest-rmse:2.93662\n",
      "[140]\ttest-rmse:2.93254\n",
      "[141]\ttest-rmse:2.92854\n",
      "[142]\ttest-rmse:2.92450\n",
      "[143]\ttest-rmse:2.92057\n",
      "[144]\ttest-rmse:2.91670\n",
      "[145]\ttest-rmse:2.91284\n",
      "[146]\ttest-rmse:2.90916\n",
      "[147]\ttest-rmse:2.90563\n",
      "[148]\ttest-rmse:2.90205\n",
      "[149]\ttest-rmse:2.89854\n",
      "[150]\ttest-rmse:2.89513\n",
      "[151]\ttest-rmse:2.89176\n",
      "[152]\ttest-rmse:2.88848\n",
      "[153]\ttest-rmse:2.88522\n",
      "[154]\ttest-rmse:2.88202\n",
      "[155]\ttest-rmse:2.87889\n",
      "[156]\ttest-rmse:2.87578\n",
      "[157]\ttest-rmse:2.87274\n",
      "[158]\ttest-rmse:2.86976\n",
      "[159]\ttest-rmse:2.86679\n",
      "[160]\ttest-rmse:2.86394\n",
      "[161]\ttest-rmse:2.86109\n",
      "[162]\ttest-rmse:2.85830\n",
      "[163]\ttest-rmse:2.85565\n",
      "[164]\ttest-rmse:2.85299\n",
      "[165]\ttest-rmse:2.85047\n",
      "[166]\ttest-rmse:2.84787\n",
      "[167]\ttest-rmse:2.84534\n",
      "[168]\ttest-rmse:2.84287\n",
      "[169]\ttest-rmse:2.84045\n",
      "[170]\ttest-rmse:2.83807\n",
      "[171]\ttest-rmse:2.83577\n",
      "[172]\ttest-rmse:2.83361\n",
      "[173]\ttest-rmse:2.83137\n",
      "[174]\ttest-rmse:2.82918\n",
      "[175]\ttest-rmse:2.82696\n",
      "[176]\ttest-rmse:2.82479\n",
      "[177]\ttest-rmse:2.82271\n",
      "[178]\ttest-rmse:2.82070\n",
      "[179]\ttest-rmse:2.81869\n",
      "[180]\ttest-rmse:2.81667\n",
      "[181]\ttest-rmse:2.81473\n",
      "[182]\ttest-rmse:2.81285\n",
      "[183]\ttest-rmse:2.81098\n",
      "[184]\ttest-rmse:2.80914\n",
      "[185]\ttest-rmse:2.80733\n",
      "[186]\ttest-rmse:2.80557\n",
      "[187]\ttest-rmse:2.80388\n",
      "[188]\ttest-rmse:2.80220\n",
      "[189]\ttest-rmse:2.80052\n",
      "[190]\ttest-rmse:2.79893\n",
      "[191]\ttest-rmse:2.79740\n",
      "[192]\ttest-rmse:2.79582\n",
      "[193]\ttest-rmse:2.79435\n",
      "[194]\ttest-rmse:2.79285\n",
      "[195]\ttest-rmse:2.79130\n",
      "[196]\ttest-rmse:2.78990\n",
      "[197]\ttest-rmse:2.78847\n",
      "[198]\ttest-rmse:2.78709\n",
      "[199]\ttest-rmse:2.78569\n",
      "[200]\ttest-rmse:2.78436\n",
      "[201]\ttest-rmse:2.78303\n",
      "[202]\ttest-rmse:2.78171\n",
      "[203]\ttest-rmse:2.78042\n",
      "[204]\ttest-rmse:2.77918\n",
      "[205]\ttest-rmse:2.77803\n",
      "[206]\ttest-rmse:2.77675\n",
      "[207]\ttest-rmse:2.77558\n",
      "[208]\ttest-rmse:2.77443\n",
      "[209]\ttest-rmse:2.77332\n",
      "[210]\ttest-rmse:2.77223\n",
      "[211]\ttest-rmse:2.77114\n",
      "[212]\ttest-rmse:2.77006\n",
      "[213]\ttest-rmse:2.76908\n",
      "[214]\ttest-rmse:2.76809\n",
      "[215]\ttest-rmse:2.76709\n",
      "[216]\ttest-rmse:2.76611\n",
      "[217]\ttest-rmse:2.76520\n",
      "[218]\ttest-rmse:2.76419\n",
      "[219]\ttest-rmse:2.76321\n",
      "[220]\ttest-rmse:2.76230\n",
      "[221]\ttest-rmse:2.76144\n",
      "[222]\ttest-rmse:2.76057\n",
      "[223]\ttest-rmse:2.75975\n",
      "[224]\ttest-rmse:2.75893\n",
      "[225]\ttest-rmse:2.75812\n",
      "[226]\ttest-rmse:2.75727\n",
      "[227]\ttest-rmse:2.75649\n",
      "[228]\ttest-rmse:2.75571\n",
      "[229]\ttest-rmse:2.75495\n",
      "[230]\ttest-rmse:2.75421\n",
      "[231]\ttest-rmse:2.75351\n",
      "[232]\ttest-rmse:2.75287\n",
      "[233]\ttest-rmse:2.75216\n",
      "[234]\ttest-rmse:2.75149\n",
      "[235]\ttest-rmse:2.75079\n",
      "[236]\ttest-rmse:2.75011\n",
      "[237]\ttest-rmse:2.74943\n",
      "[238]\ttest-rmse:2.74874\n",
      "[239]\ttest-rmse:2.74810\n",
      "[240]\ttest-rmse:2.74747\n",
      "[241]\ttest-rmse:2.74686\n",
      "[242]\ttest-rmse:2.74629\n",
      "[243]\ttest-rmse:2.74568\n",
      "[244]\ttest-rmse:2.74513\n",
      "[245]\ttest-rmse:2.74462\n",
      "[246]\ttest-rmse:2.74407\n",
      "[247]\ttest-rmse:2.74353\n",
      "[248]\ttest-rmse:2.74301\n",
      "[249]\ttest-rmse:2.74249\n",
      "[250]\ttest-rmse:2.74199\n",
      "[251]\ttest-rmse:2.74145\n",
      "[252]\ttest-rmse:2.74092\n",
      "[253]\ttest-rmse:2.74047\n",
      "[254]\ttest-rmse:2.73998\n",
      "[255]\ttest-rmse:2.73944\n",
      "[256]\ttest-rmse:2.73897\n",
      "[257]\ttest-rmse:2.73854\n",
      "[258]\ttest-rmse:2.73809\n",
      "[259]\ttest-rmse:2.73767\n",
      "[260]\ttest-rmse:2.73723\n",
      "[261]\ttest-rmse:2.73686\n",
      "[262]\ttest-rmse:2.73644\n",
      "[263]\ttest-rmse:2.73606\n",
      "[264]\ttest-rmse:2.73570\n",
      "[265]\ttest-rmse:2.73528\n",
      "[266]\ttest-rmse:2.73492\n",
      "[267]\ttest-rmse:2.73455\n",
      "[268]\ttest-rmse:2.73418\n",
      "[269]\ttest-rmse:2.73377\n",
      "[270]\ttest-rmse:2.73343\n",
      "[271]\ttest-rmse:2.73310\n",
      "[272]\ttest-rmse:2.73277\n",
      "[273]\ttest-rmse:2.73246\n",
      "[274]\ttest-rmse:2.73208\n",
      "[275]\ttest-rmse:2.73179\n",
      "[276]\ttest-rmse:2.73146\n",
      "[277]\ttest-rmse:2.73122\n",
      "[278]\ttest-rmse:2.73086\n",
      "[279]\ttest-rmse:2.73060\n",
      "[280]\ttest-rmse:2.73030\n",
      "[281]\ttest-rmse:2.73003\n",
      "[282]\ttest-rmse:2.72973\n",
      "[283]\ttest-rmse:2.72949\n",
      "[284]\ttest-rmse:2.72925\n",
      "[285]\ttest-rmse:2.72901\n",
      "[286]\ttest-rmse:2.72874\n",
      "[287]\ttest-rmse:2.72846\n",
      "[288]\ttest-rmse:2.72822\n",
      "[289]\ttest-rmse:2.72797\n",
      "[290]\ttest-rmse:2.72775\n",
      "[291]\ttest-rmse:2.72752\n",
      "[292]\ttest-rmse:2.72727\n",
      "[293]\ttest-rmse:2.72706\n",
      "[294]\ttest-rmse:2.72684\n",
      "[295]\ttest-rmse:2.72659\n",
      "[296]\ttest-rmse:2.72636\n",
      "[297]\ttest-rmse:2.72619\n",
      "[298]\ttest-rmse:2.72599\n",
      "[299]\ttest-rmse:2.72577\n",
      "[300]\ttest-rmse:2.72558\n",
      "[301]\ttest-rmse:2.72541\n",
      "[302]\ttest-rmse:2.72520\n",
      "[303]\ttest-rmse:2.72504\n",
      "[304]\ttest-rmse:2.72486\n",
      "[305]\ttest-rmse:2.72467\n",
      "[306]\ttest-rmse:2.72447\n",
      "[307]\ttest-rmse:2.72428\n",
      "[308]\ttest-rmse:2.72409\n",
      "[309]\ttest-rmse:2.72394\n",
      "[310]\ttest-rmse:2.72377\n",
      "[311]\ttest-rmse:2.72360\n",
      "[312]\ttest-rmse:2.72349\n",
      "[313]\ttest-rmse:2.72330\n",
      "[314]\ttest-rmse:2.72319\n",
      "[315]\ttest-rmse:2.72301\n",
      "[316]\ttest-rmse:2.72286\n",
      "[317]\ttest-rmse:2.72273\n",
      "[318]\ttest-rmse:2.72263\n",
      "[319]\ttest-rmse:2.72250\n",
      "[320]\ttest-rmse:2.72238\n",
      "[321]\ttest-rmse:2.72226\n",
      "[322]\ttest-rmse:2.72212\n",
      "[323]\ttest-rmse:2.72199\n",
      "[324]\ttest-rmse:2.72191\n",
      "[325]\ttest-rmse:2.72177\n",
      "[326]\ttest-rmse:2.72165\n",
      "[327]\ttest-rmse:2.72152\n",
      "[328]\ttest-rmse:2.72144\n",
      "[329]\ttest-rmse:2.72134\n",
      "[330]\ttest-rmse:2.72123\n",
      "[331]\ttest-rmse:2.72113\n",
      "[332]\ttest-rmse:2.72103\n",
      "[333]\ttest-rmse:2.72091\n",
      "[334]\ttest-rmse:2.72083\n",
      "[335]\ttest-rmse:2.72073\n",
      "[336]\ttest-rmse:2.72063\n",
      "[337]\ttest-rmse:2.72057\n",
      "[338]\ttest-rmse:2.72050\n",
      "[339]\ttest-rmse:2.72047\n",
      "[340]\ttest-rmse:2.72035\n",
      "[341]\ttest-rmse:2.72027\n",
      "[342]\ttest-rmse:2.72016\n",
      "[343]\ttest-rmse:2.72004\n",
      "[344]\ttest-rmse:2.71996\n",
      "[345]\ttest-rmse:2.71990\n",
      "[346]\ttest-rmse:2.71980\n",
      "[347]\ttest-rmse:2.71974\n",
      "[348]\ttest-rmse:2.71967\n",
      "[349]\ttest-rmse:2.71964\n",
      "[350]\ttest-rmse:2.71961\n",
      "[351]\ttest-rmse:2.71954\n",
      "[352]\ttest-rmse:2.71949\n",
      "[353]\ttest-rmse:2.71944\n",
      "[354]\ttest-rmse:2.71934\n",
      "[355]\ttest-rmse:2.71929\n",
      "[356]\ttest-rmse:2.71924\n",
      "[357]\ttest-rmse:2.71917\n",
      "[358]\ttest-rmse:2.71907\n",
      "[359]\ttest-rmse:2.71903\n",
      "[360]\ttest-rmse:2.71894\n",
      "[361]\ttest-rmse:2.71883\n",
      "[362]\ttest-rmse:2.71877\n",
      "[363]\ttest-rmse:2.71873\n",
      "[364]\ttest-rmse:2.71864\n",
      "[365]\ttest-rmse:2.71862\n",
      "[366]\ttest-rmse:2.71857\n",
      "[367]\ttest-rmse:2.71852\n",
      "[368]\ttest-rmse:2.71849\n",
      "[369]\ttest-rmse:2.71844\n",
      "[370]\ttest-rmse:2.71839\n",
      "[371]\ttest-rmse:2.71834\n",
      "[372]\ttest-rmse:2.71830\n",
      "[373]\ttest-rmse:2.71829\n",
      "[374]\ttest-rmse:2.71829\n",
      "[375]\ttest-rmse:2.71828\n",
      "[376]\ttest-rmse:2.71826\n",
      "[377]\ttest-rmse:2.71823\n",
      "[378]\ttest-rmse:2.71816\n",
      "[379]\ttest-rmse:2.71812\n",
      "[380]\ttest-rmse:2.71810\n",
      "[381]\ttest-rmse:2.71801\n",
      "[382]\ttest-rmse:2.71796\n",
      "[383]\ttest-rmse:2.71790\n",
      "[384]\ttest-rmse:2.71787\n",
      "[385]\ttest-rmse:2.71785\n",
      "[386]\ttest-rmse:2.71779\n",
      "[387]\ttest-rmse:2.71777\n",
      "[388]\ttest-rmse:2.71773\n",
      "[389]\ttest-rmse:2.71770\n",
      "[390]\ttest-rmse:2.71769\n",
      "[391]\ttest-rmse:2.71765\n",
      "[392]\ttest-rmse:2.71758\n",
      "[393]\ttest-rmse:2.71752\n",
      "[394]\ttest-rmse:2.71748\n",
      "[395]\ttest-rmse:2.71743\n",
      "[396]\ttest-rmse:2.71741\n",
      "[397]\ttest-rmse:2.71741\n",
      "[398]\ttest-rmse:2.71739\n",
      "[399]\ttest-rmse:2.71734\n",
      "[400]\ttest-rmse:2.71729\n",
      "[401]\ttest-rmse:2.71723\n",
      "[402]\ttest-rmse:2.71724\n",
      "[403]\ttest-rmse:2.71721\n",
      "[404]\ttest-rmse:2.71722\n",
      "[405]\ttest-rmse:2.71723\n",
      "[406]\ttest-rmse:2.71719\n",
      "[407]\ttest-rmse:2.71718\n",
      "[408]\ttest-rmse:2.71711\n",
      "[409]\ttest-rmse:2.71709\n",
      "[410]\ttest-rmse:2.71709\n",
      "[411]\ttest-rmse:2.71705\n",
      "[412]\ttest-rmse:2.71704\n",
      "[413]\ttest-rmse:2.71703\n",
      "[414]\ttest-rmse:2.71701\n",
      "[415]\ttest-rmse:2.71700\n",
      "[416]\ttest-rmse:2.71699\n",
      "[417]\ttest-rmse:2.71697\n",
      "[418]\ttest-rmse:2.71696\n",
      "[419]\ttest-rmse:2.71692\n",
      "[420]\ttest-rmse:2.71692\n",
      "[421]\ttest-rmse:2.71692\n",
      "[422]\ttest-rmse:2.71688\n",
      "[423]\ttest-rmse:2.71688\n",
      "[424]\ttest-rmse:2.71684\n",
      "[425]\ttest-rmse:2.71686\n",
      "[426]\ttest-rmse:2.71686\n",
      "[427]\ttest-rmse:2.71687\n",
      "[428]\ttest-rmse:2.71685\n",
      "[429]\ttest-rmse:2.71684\n",
      "[430]\ttest-rmse:2.71686\n",
      "[431]\ttest-rmse:2.71686\n",
      "[432]\ttest-rmse:2.71686\n",
      "[433]\ttest-rmse:2.71684\n",
      "[434]\ttest-rmse:2.71682\n",
      "[435]\ttest-rmse:2.71681\n",
      "[436]\ttest-rmse:2.71680\n",
      "[437]\ttest-rmse:2.71679\n",
      "[438]\ttest-rmse:2.71677\n",
      "[439]\ttest-rmse:2.71680\n",
      "[440]\ttest-rmse:2.71680\n",
      "[441]\ttest-rmse:2.71680\n",
      "[442]\ttest-rmse:2.71681\n",
      "[443]\ttest-rmse:2.71683\n",
      "[444]\ttest-rmse:2.71681\n",
      "[445]\ttest-rmse:2.71680\n",
      "[446]\ttest-rmse:2.71680\n",
      "[447]\ttest-rmse:2.71676\n",
      "[448]\ttest-rmse:2.71676\n",
      "[449]\ttest-rmse:2.71677\n",
      "[450]\ttest-rmse:2.71674\n",
      "[451]\ttest-rmse:2.71675\n",
      "[452]\ttest-rmse:2.71674\n",
      "[453]\ttest-rmse:2.71676\n",
      "[454]\ttest-rmse:2.71677\n",
      "[455]\ttest-rmse:2.71678\n",
      "[456]\ttest-rmse:2.71678\n",
      "[457]\ttest-rmse:2.71679\n",
      "[458]\ttest-rmse:2.71679\n",
      "[459]\ttest-rmse:2.71683\n",
      "[460]\ttest-rmse:2.71684\n",
      "[461]\ttest-rmse:2.71681\n"
     ]
    }
   ],
   "source": [
    "def XGBmodel(X_train,X_test,y_train,y_test,params,val):\n",
    "    matrix_train = xgb.DMatrix(X_train,label=y_train)\n",
    "    matrix_test = xgb.DMatrix(X_test,label=y_test)\n",
    "    if val:\n",
    "        model=xgb.train(params=params,\n",
    "                        dtrain=matrix_train,num_boost_round=5000, \n",
    "                        early_stopping_rounds=10,evals=[(matrix_test,'test')])\n",
    "    else:\n",
    "        model=xgb.train(params=params,dtrain=matrix_train,num_boost_round=5000)\n",
    "    return model\n",
    "\n",
    "model = XGBmodel(X_train,X_test,y_train,y_test,params,True)"
   ]
  },
  {
   "cell_type": "code",
   "execution_count": 46,
   "id": "7fcf5c03",
   "metadata": {
    "execution": {
     "iopub.execute_input": "2022-07-30T17:22:49.699765Z",
     "iopub.status.busy": "2022-07-30T17:22:49.699392Z",
     "iopub.status.idle": "2022-07-30T17:22:49.719962Z",
     "shell.execute_reply": "2022-07-30T17:22:49.719184Z"
    },
    "papermill": {
     "duration": 0.06983,
     "end_time": "2022-07-30T17:22:49.722307",
     "exception": false,
     "start_time": "2022-07-30T17:22:49.652477",
     "status": "completed"
    },
    "tags": []
   },
   "outputs": [],
   "source": [
    "prediction = model.predict(xgb.DMatrix(X_test), ntree_limit = model.best_ntree_limit).tolist()"
   ]
  },
  {
   "cell_type": "code",
   "execution_count": 47,
   "id": "be925af3",
   "metadata": {
    "execution": {
     "iopub.execute_input": "2022-07-30T17:22:49.818494Z",
     "iopub.status.busy": "2022-07-30T17:22:49.818127Z",
     "iopub.status.idle": "2022-07-30T17:22:50.060452Z",
     "shell.execute_reply": "2022-07-30T17:22:50.059563Z"
    },
    "papermill": {
     "duration": 0.292622,
     "end_time": "2022-07-30T17:22:50.062916",
     "exception": false,
     "start_time": "2022-07-30T17:22:49.770294",
     "status": "completed"
    },
    "tags": []
   },
   "outputs": [
    {
     "data": {
      "text/plain": [
       "array([5., 5., 5., ..., 5., 5., 5.])"
      ]
     },
     "execution_count": 47,
     "metadata": {},
     "output_type": "execute_result"
    }
   ],
   "source": [
    "prediction = cp.round(prediction)\n",
    "prediction"
   ]
  },
  {
   "cell_type": "code",
   "execution_count": 48,
   "id": "27e7c419",
   "metadata": {
    "execution": {
     "iopub.execute_input": "2022-07-30T17:22:50.155837Z",
     "iopub.status.busy": "2022-07-30T17:22:50.154994Z",
     "iopub.status.idle": "2022-07-30T17:23:05.255432Z",
     "shell.execute_reply": "2022-07-30T17:23:05.254380Z"
    },
    "papermill": {
     "duration": 15.149086,
     "end_time": "2022-07-30T17:23:05.257748",
     "exception": false,
     "start_time": "2022-07-30T17:22:50.108662",
     "status": "completed"
    },
    "tags": []
   },
   "outputs": [
    {
     "data": {
      "text/plain": [
       "array([24., 24., 18., ..., 20., 22., 28.])"
      ]
     },
     "execution_count": 48,
     "metadata": {},
     "output_type": "execute_result"
    }
   ],
   "source": [
    "model = XGBmodel(train_enc,X_test,cp.array(yy),y_test,params,False)\n",
    "prediction = model.predict(xgb.DMatrix(sub_enc), ntree_limit = model.best_ntree_limit).tolist()\n",
    "prediction = cp.round(cp.array(prediction)**2+minimum)\n",
    "prediction"
   ]
  },
  {
   "cell_type": "code",
   "execution_count": 49,
   "id": "5efd045a",
   "metadata": {
    "execution": {
     "iopub.execute_input": "2022-07-30T17:23:05.352822Z",
     "iopub.status.busy": "2022-07-30T17:23:05.351778Z",
     "iopub.status.idle": "2022-07-30T17:23:05.687564Z",
     "shell.execute_reply": "2022-07-30T17:23:05.686569Z"
    },
    "papermill": {
     "duration": 0.385788,
     "end_time": "2022-07-30T17:23:05.690041",
     "exception": false,
     "start_time": "2022-07-30T17:23:05.304253",
     "status": "completed"
    },
    "tags": []
   },
   "outputs": [],
   "source": [
    "prediction = [10 if i < 0 else i for i in prediction]"
   ]
  },
  {
   "cell_type": "code",
   "execution_count": 50,
   "id": "2ff40bc2",
   "metadata": {
    "execution": {
     "iopub.execute_input": "2022-07-30T17:23:05.783811Z",
     "iopub.status.busy": "2022-07-30T17:23:05.783138Z",
     "iopub.status.idle": "2022-07-30T17:23:05.807334Z",
     "shell.execute_reply": "2022-07-30T17:23:05.806403Z"
    },
    "papermill": {
     "duration": 0.073179,
     "end_time": "2022-07-30T17:23:05.809330",
     "exception": false,
     "start_time": "2022-07-30T17:23:05.736151",
     "status": "completed"
    },
    "tags": []
   },
   "outputs": [
    {
     "data": {
      "text/html": [
       "<div>\n",
       "<style scoped>\n",
       "    .dataframe tbody tr th:only-of-type {\n",
       "        vertical-align: middle;\n",
       "    }\n",
       "\n",
       "    .dataframe tbody tr th {\n",
       "        vertical-align: top;\n",
       "    }\n",
       "\n",
       "    .dataframe thead th {\n",
       "        text-align: right;\n",
       "    }\n",
       "</style>\n",
       "<table border=\"1\" class=\"dataframe\">\n",
       "  <thead>\n",
       "    <tr style=\"text-align: right;\">\n",
       "      <th></th>\n",
       "      <th>Id</th>\n",
       "      <th>Total Points</th>\n",
       "    </tr>\n",
       "  </thead>\n",
       "  <tbody>\n",
       "    <tr>\n",
       "      <th>0</th>\n",
       "      <td>1216492_AS Yadav</td>\n",
       "      <td>0</td>\n",
       "    </tr>\n",
       "    <tr>\n",
       "      <th>1</th>\n",
       "      <td>1216492_AT Rayudu</td>\n",
       "      <td>0</td>\n",
       "    </tr>\n",
       "    <tr>\n",
       "      <th>2</th>\n",
       "      <td>1216492_DL Chahar</td>\n",
       "      <td>0</td>\n",
       "    </tr>\n",
       "    <tr>\n",
       "      <th>3</th>\n",
       "      <td>1216492_F du Plessis</td>\n",
       "      <td>0</td>\n",
       "    </tr>\n",
       "    <tr>\n",
       "      <th>4</th>\n",
       "      <td>1216492_HH Pandya</td>\n",
       "      <td>0</td>\n",
       "    </tr>\n",
       "  </tbody>\n",
       "</table>\n",
       "</div>"
      ],
      "text/plain": [
       "                     Id  Total Points\n",
       "0      1216492_AS Yadav             0\n",
       "1     1216492_AT Rayudu             0\n",
       "2     1216492_DL Chahar             0\n",
       "3  1216492_F du Plessis             0\n",
       "4     1216492_HH Pandya             0"
      ]
     },
     "execution_count": 50,
     "metadata": {},
     "output_type": "execute_result"
    }
   ],
   "source": [
    "sub = cd.read_csv(\"../input/ipl-2020-player-performance/sample_submission.csv\",header=0)\n",
    "submission1 = sub.copy()\n",
    "submission1.head()"
   ]
  },
  {
   "cell_type": "code",
   "execution_count": 51,
   "id": "ea6252f3",
   "metadata": {
    "execution": {
     "iopub.execute_input": "2022-07-30T17:23:05.903187Z",
     "iopub.status.busy": "2022-07-30T17:23:05.902843Z",
     "iopub.status.idle": "2022-07-30T17:23:06.406055Z",
     "shell.execute_reply": "2022-07-30T17:23:06.405077Z"
    },
    "papermill": {
     "duration": 0.552441,
     "end_time": "2022-07-30T17:23:06.408422",
     "exception": false,
     "start_time": "2022-07-30T17:23:05.855981",
     "status": "completed"
    },
    "tags": []
   },
   "outputs": [],
   "source": [
    "y_pred = [10 if i<0 else i for i in y_pred]"
   ]
  },
  {
   "cell_type": "code",
   "execution_count": 52,
   "id": "23d51d5b",
   "metadata": {
    "execution": {
     "iopub.execute_input": "2022-07-30T17:23:06.500830Z",
     "iopub.status.busy": "2022-07-30T17:23:06.500526Z",
     "iopub.status.idle": "2022-07-30T17:23:06.752392Z",
     "shell.execute_reply": "2022-07-30T17:23:06.751448Z"
    },
    "papermill": {
     "duration": 0.299895,
     "end_time": "2022-07-30T17:23:06.754818",
     "exception": false,
     "start_time": "2022-07-30T17:23:06.454923",
     "status": "completed"
    },
    "tags": []
   },
   "outputs": [],
   "source": [
    "submission1['Total Points']=prediction"
   ]
  },
  {
   "cell_type": "code",
   "execution_count": 53,
   "id": "5eb4486a",
   "metadata": {
    "execution": {
     "iopub.execute_input": "2022-07-30T17:23:06.849154Z",
     "iopub.status.busy": "2022-07-30T17:23:06.848809Z",
     "iopub.status.idle": "2022-07-30T17:23:06.861948Z",
     "shell.execute_reply": "2022-07-30T17:23:06.861073Z"
    },
    "papermill": {
     "duration": 0.063319,
     "end_time": "2022-07-30T17:23:06.864086",
     "exception": false,
     "start_time": "2022-07-30T17:23:06.800767",
     "status": "completed"
    },
    "tags": []
   },
   "outputs": [],
   "source": [
    "submission1.to_pandas().to_csv(\"submission.csv\", index=False)"
   ]
  },
  {
   "cell_type": "code",
   "execution_count": null,
   "id": "f6c49e80",
   "metadata": {
    "papermill": {
     "duration": 0.045036,
     "end_time": "2022-07-30T17:23:06.955892",
     "exception": false,
     "start_time": "2022-07-30T17:23:06.910856",
     "status": "completed"
    },
    "tags": []
   },
   "outputs": [],
   "source": []
  }
 ],
 "metadata": {
  "kernelspec": {
   "display_name": "Python 3",
   "language": "python",
   "name": "python3"
  },
  "language_info": {
   "codemirror_mode": {
    "name": "ipython",
    "version": 3
   },
   "file_extension": ".py",
   "mimetype": "text/x-python",
   "name": "python",
   "nbconvert_exporter": "python",
   "pygments_lexer": "ipython3",
   "version": "3.7.12"
  },
  "papermill": {
   "default_parameters": {},
   "duration": 63.997115,
   "end_time": "2022-07-30T17:23:08.425976",
   "environment_variables": {},
   "exception": null,
   "input_path": "__notebook__.ipynb",
   "output_path": "__notebook__.ipynb",
   "parameters": {},
   "start_time": "2022-07-30T17:22:04.428861",
   "version": "2.3.4"
  }
 },
 "nbformat": 4,
 "nbformat_minor": 5
}
